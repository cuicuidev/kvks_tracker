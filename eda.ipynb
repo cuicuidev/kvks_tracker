{
 "cells": [
  {
   "cell_type": "code",
   "execution_count": 7,
   "metadata": {},
   "outputs": [],
   "source": [
    "import os\n",
    "import glob\n",
    "import datetime\n",
    "\n",
    "from io import StringIO\n",
    "from abc import ABC, abstractmethod\n",
    "from enum import Enum\n",
    "from typing import Union, Tuple, Dict, Optional\n",
    "\n",
    "import numpy as np\n",
    "import pandas as pd\n",
    "from scipy import stats\n",
    "\n",
    "import plotly.express as px\n",
    "import plotly.graph_objects as go\n",
    "\n",
    "\n",
    "Number = Union[int, float]"
   ]
  },
  {
   "cell_type": "code",
   "execution_count": 8,
   "metadata": {},
   "outputs": [],
   "source": [
    "# Spreadsheet formulas\n",
    "\n",
    "def match(score, array):\n",
    "    closest_index = 0\n",
    "    for idx, elem in enumerate(array):\n",
    "        if elem <= score:\n",
    "            closest_index = idx + 1\n",
    "        else:\n",
    "            break\n",
    "    return closest_index\n",
    "\n",
    "\n",
    "def choose(index, *args):\n",
    "    return args[index - 1] if 0 < index <= len(args) else 0"
   ]
  },
  {
   "cell_type": "code",
   "execution_count": 9,
   "metadata": {},
   "outputs": [
    {
     "ename": "UnicodeDecodeError",
     "evalue": "'charmap' codec can't decode byte 0x8d in position 0: character maps to <undefined>",
     "output_type": "error",
     "traceback": [
      "\u001b[1;31m---------------------------------------------------------------------------\u001b[0m",
      "\u001b[1;31mUnicodeDecodeError\u001b[0m                        Traceback (most recent call last)",
      "Cell \u001b[1;32mIn[9], line 27\u001b[0m\n\u001b[0;32m     23\u001b[0m             data\u001b[38;5;241m.\u001b[39mappend(df)\n\u001b[0;32m     24\u001b[0m     \u001b[38;5;28;01mreturn\u001b[39;00m pd\u001b[38;5;241m.\u001b[39mconcat(data)\n\u001b[1;32m---> 27\u001b[0m df \u001b[38;5;241m=\u001b[39m \u001b[43mload_stats\u001b[49m\u001b[43m(\u001b[49m\u001b[38;5;124;43mr\u001b[39;49m\u001b[38;5;124;43m\"\u001b[39;49m\u001b[38;5;124;43mD:\u001b[39;49m\u001b[38;5;124;43m\\\u001b[39;49m\u001b[38;5;124;43mSteamLibrary\u001b[39;49m\u001b[38;5;124;43m\\\u001b[39;49m\u001b[38;5;124;43msteamapps\u001b[39;49m\u001b[38;5;124;43m\\\u001b[39;49m\u001b[38;5;124;43mcommon\u001b[39;49m\u001b[38;5;124;43m\\\u001b[39;49m\u001b[38;5;124;43mFPSAimTrainer\u001b[39;49m\u001b[38;5;124;43m\\\u001b[39;49m\u001b[38;5;124;43mFPSAimTrainer\u001b[39;49m\u001b[38;5;124;43m\\\u001b[39;49m\u001b[38;5;124;43mstats\u001b[39;49m\u001b[38;5;124;43m\"\u001b[39;49m\u001b[43m)\u001b[49m\n",
      "Cell \u001b[1;32mIn[9], line 9\u001b[0m, in \u001b[0;36mload_stats\u001b[1;34m(path)\u001b[0m\n\u001b[0;32m      7\u001b[0m \u001b[38;5;28;01mfor\u001b[39;00m csv \u001b[38;5;129;01min\u001b[39;00m csvs:\n\u001b[0;32m      8\u001b[0m     \u001b[38;5;28;01mwith\u001b[39;00m \u001b[38;5;28mopen\u001b[39m(csv) \u001b[38;5;28;01mas\u001b[39;00m f:\n\u001b[1;32m----> 9\u001b[0m         kill_data, \u001b[38;5;241m*\u001b[39mother_data \u001b[38;5;241m=\u001b[39m \u001b[43mf\u001b[49m\u001b[38;5;241;43m.\u001b[39;49m\u001b[43mread\u001b[49m\u001b[43m(\u001b[49m\u001b[43m)\u001b[49m\u001b[38;5;241m.\u001b[39msplit(\u001b[38;5;124m\"\u001b[39m\u001b[38;5;130;01m\\n\u001b[39;00m\u001b[38;5;130;01m\\n\u001b[39;00m\u001b[38;5;124m\"\u001b[39m)\n\u001b[0;32m     10\u001b[0m         df \u001b[38;5;241m=\u001b[39m pd\u001b[38;5;241m.\u001b[39mread_csv(StringIO(kill_data), sep\u001b[38;5;241m=\u001b[39m\u001b[38;5;124m\"\u001b[39m\u001b[38;5;124m,\u001b[39m\u001b[38;5;124m\"\u001b[39m)\n\u001b[0;32m     11\u001b[0m         size \u001b[38;5;241m=\u001b[39m df\u001b[38;5;241m.\u001b[39mshape[\u001b[38;5;241m0\u001b[39m]\n",
      "File \u001b[1;32m~\\AppData\\Local\\Programs\\Python\\Python312\\Lib\\encodings\\cp1252.py:23\u001b[0m, in \u001b[0;36mIncrementalDecoder.decode\u001b[1;34m(self, input, final)\u001b[0m\n\u001b[0;32m     22\u001b[0m \u001b[38;5;28;01mdef\u001b[39;00m \u001b[38;5;21mdecode\u001b[39m(\u001b[38;5;28mself\u001b[39m, \u001b[38;5;28minput\u001b[39m, final\u001b[38;5;241m=\u001b[39m\u001b[38;5;28;01mFalse\u001b[39;00m):\n\u001b[1;32m---> 23\u001b[0m     \u001b[38;5;28;01mreturn\u001b[39;00m \u001b[43mcodecs\u001b[49m\u001b[38;5;241;43m.\u001b[39;49m\u001b[43mcharmap_decode\u001b[49m\u001b[43m(\u001b[49m\u001b[38;5;28;43minput\u001b[39;49m\u001b[43m,\u001b[49m\u001b[38;5;28;43mself\u001b[39;49m\u001b[38;5;241;43m.\u001b[39;49m\u001b[43merrors\u001b[49m\u001b[43m,\u001b[49m\u001b[43mdecoding_table\u001b[49m\u001b[43m)\u001b[49m[\u001b[38;5;241m0\u001b[39m]\n",
      "\u001b[1;31mUnicodeDecodeError\u001b[0m: 'charmap' codec can't decode byte 0x8d in position 0: character maps to <undefined>"
     ]
    }
   ],
   "source": [
    "# Basic data loading\n",
    "\n",
    "def load_stats(path):\n",
    "    csvs = glob.glob(os.path.join(path, \"*.csv\"))\n",
    "\n",
    "    data = []\n",
    "    for csv in csvs:\n",
    "        with open(csv) as f:\n",
    "            kill_data, *other_data = f.read().split(\"\\n\\n\")\n",
    "            df = pd.read_csv(StringIO(kill_data), sep=\",\")\n",
    "            size = df.shape[0]\n",
    "            if size == 0:\n",
    "                df.loc[0] = [np.nan for _ in range(df.shape[1])]\n",
    "                metadata = csv.split(\"\\\\\")[-1].split(\" - \")\n",
    "                df[\"scenario\"] = metadata[0]\n",
    "                df[\"submitted\"] = metadata[-1]\n",
    "            else:\n",
    "                metadata = np.array([csv.split(\"\\\\\")[-1].split(\" - \") for _ in range(size)])\n",
    "                df[\"scenario\"] = metadata[:,0]\n",
    "                df[\"submitted\"] = metadata[:,-1]\n",
    "            df[\"submitted\"] =  df[\"submitted\"].apply(lambda x: datetime.datetime.strptime(x, \"%Y.%m.%d-%H.%M.%S Stats.csv\"))\n",
    "            df[\"score\"] = float(pd.read_csv(StringIO(other_data[1]), sep=\",\", header=None).set_index(0).loc[\"Score:\"].values[0])\n",
    "            data.append(df)\n",
    "    return pd.concat(data)\n",
    "\n",
    "\n",
    "df = load_stats(r\"D:\\SteamLibrary\\steamapps\\common\\FPSAimTrainer\\FPSAimTrainer\\stats\")"
   ]
  },
  {
   "cell_type": "code",
   "execution_count": 4,
   "metadata": {},
   "outputs": [],
   "source": [
    "# Benchmark logic\n",
    "\n",
    "class SkillMixin(ABC):\n",
    "    _max_energy: int = 0\n",
    "\n",
    "    def energy(self: \"SkillMixin\", score_a: Number, score_b: Number) -> int:\n",
    "        energy_a = self._energy(score_a, self.scenario_a.value.thresholds)\n",
    "        energy_b = self._energy(score_b, self.scenario_b.value.thresholds)\n",
    "        return int(min(self._max_energy, max(energy_a, energy_b)))\n",
    "\n",
    "    @abstractmethod\n",
    "    def _energy(self: \"SkillMixin\", score: Number, thresholds: Tuple[int, int, int, int]) -> int:\n",
    "        pass\n",
    "\n",
    "    @property\n",
    "    @abstractmethod\n",
    "    def _ranks(self: \"SkillMixin\") -> Dict[str, int]:\n",
    "        pass\n",
    "\n",
    "class NoviceMixin(SkillMixin):\n",
    "    _previous_energy: int = 0\n",
    "    _max_energy: int = 500\n",
    "\n",
    "    def _energy(self: \"NoviceMixin\", score: Number, thresholds: Tuple[int, int, int, int]) -> int:\n",
    "        \"\"\"\n",
    "        = ELEGIR(COINCIDIR(E3, {0, L3:O3}), 0, L$2, M$2, N$2, O$2) # BASE\n",
    "\n",
    "        + (E3 - ELEGIR(COINCIDIR(E3, {0, L3:O3}), 0, L3, M3, N3, O3)) # ADJUSTMENT\n",
    "\n",
    "        / ELEGIR(COINCIDIR(E3, {0, L3:O3}), L3, M3-L3, N3-M3, O3-N3, O3-N3) # DENOMINATOR\n",
    "\n",
    "        * ELEGIR(COINCIDIR(E3, {0, L3:O3}), L$2, M$2-L$2, N$2-M$2, O$2-N$2, O$2-N$2) # FACTOR\n",
    "        \"\"\"\n",
    "        t1, t2, t3, t4 = thresholds # Row 3 on the spreadsheet\n",
    "        e1, e2, e3, e4 = self._ranks.values() # Row 2 on the spreadsheet\n",
    "\n",
    "        match_array = [0, t1, t2, t3, t4]\n",
    "        match_idx = match(score, match_array)\n",
    "        if match_idx == 0:\n",
    "            return 0\n",
    "\n",
    "        base = choose(match_idx, self._previous_energy, e1, e2, e3, e4)\n",
    "        adjustment = score - choose(match_idx, 0, t1, t2, t3, t4)\n",
    "        denominator = choose(match_idx, t1, t2 - t1, t3 - t2, t4 - t3, t4 - t3)\n",
    "        factor = choose(match_idx, e1, e2 - e1, e3 - e2, e4 - e3, e4 - e3)\n",
    "\n",
    "        if denominator == 0:\n",
    "            return 0\n",
    "        \n",
    "        result = base + (adjustment / denominator) * factor\n",
    "        return result\n",
    "\n",
    "    @property\n",
    "    def _ranks(self: \"NoviceMixin\") -> Dict[str, int]:\n",
    "        return {\"Iron\" : 100, \"Bronze\" : 200, \"Silver\" : 300, \"Gold\" : 400}\n",
    "\n",
    "class IntermediateMixin(SkillMixin):\n",
    "    _previous_energy: int = 400\n",
    "    _max_energy: int = 900\n",
    "\n",
    "    def _energy(self: \"IntermediateMixin\", score: Number, thresholds: Tuple[int, int, int, int]) -> int:\n",
    "        \"\"\"\n",
    "        = ELEGIR(COINCIDIR(E3, {0, L3-(M3-L3), L3:O3}), 0, Novice!O$2, L$2, M$2, N$2, O$2)\n",
    "\n",
    "        + (E3 - ELEGIR(COINCIDIR(E3, {0, L3-(M3-L3), L3:O3}), 0, L3-(M3-L3), L3, M3, N3, O3))\n",
    "\n",
    "        / ELEGIR(COINCIDIR(E3, {0, L3-(M3-L3), L3:O3}), L3-(M3-L3), M3-L3, M3-L3, N3-M3, O3-N3, O3-N3)\n",
    "\n",
    "        * ELEGIR(COINCIDIR(E3, {0, L3-(M3-L3), L3:O3}), Novice!O$2, L$2-Novice!O$2, M$2-L$2, N$2-M$2, O$2-N$2, O$2-N$2)\n",
    "        \"\"\"\n",
    "        t1, t2, t3, t4 = thresholds\n",
    "        e1, e2, e3, e4 = self._ranks.values()\n",
    "\n",
    "        match_array = [0, t1 - (t2 - t1), t1, t2, t3, t4]\n",
    "        match_idx = match(score, match_array)\n",
    "        if match_idx == 0:\n",
    "            return 0\n",
    "\n",
    "        base = choose(match_idx, 0, self._previous_energy, e1, e2, e3, e4)\n",
    "        adjustment = score - choose(match_idx, 0, t1 - (t2 - t1), t1, t2, t3, t4)\n",
    "        denominator = choose(match_idx, t1 - (t2 - t1), t2 - t1, t2 - t1, t3 - t2, t4 - t3, t4 - t3)\n",
    "        factor = choose(match_idx, self._previous_energy, e1 - self._previous_energy, e2 - e1, e3 - e2, e4 - e3, e4 - e3)\n",
    "\n",
    "        if denominator == 0:\n",
    "            return 0\n",
    "        \n",
    "        result = base + (adjustment / denominator) * factor\n",
    "        return result\n",
    "\n",
    "    @property\n",
    "    def _ranks(self: \"IntermediateMixin\") -> Dict[str, int]:\n",
    "        return {\"Platinum\" : 500, \"Diamond\" : 600, \"Jade\" : 700, \"Master\" : 800}\n",
    "\n",
    "class AdvancedMixin(SkillMixin):\n",
    "    _previous_energy: int = 800\n",
    "    _max_energy: int = 1200\n",
    "\n",
    "    def _energy(self: \"AdvancedMixin\", score: Number, thresholds: Tuple[int, int, int, int]) -> int:\n",
    "        \"\"\"\n",
    "        = ELEGIR(COINCIDIR(E3, {0, L3-(M3-L3), L3:O3}), 0, Intermediate!O$2, L$2, M$2, N$2, O$2)\n",
    "\n",
    "        + (E3 - ELEGIR(COINCIDIR(E3, {0, L3-(M3-L3), L3:O3}), 0, L3-(M3-L3), L3, M3, N3, O3))\n",
    "\n",
    "        / ELEGIR(COINCIDIR(E3, {0, L3-(M3-L3), L3:O3}), L3-(M3-L3), M3-L3, M3-L3, N3-M3, O3-N3, O3-N3)\n",
    "\n",
    "        * ELEGIR(COINCIDIR(E3, {0, L3-(M3-L3), L3:O3}), Intermediate!O$2, L$2-Intermediate!O$2, M$2-L$2, N$2-M$2, O$2-N$2, O$2-N$2)\n",
    "        \"\"\"\n",
    "        t1, t2, t3, t4 = thresholds\n",
    "        e1, e2, e3, e4 = self._ranks.values()\n",
    "\n",
    "        match_array = [0, t1 - (t2 - t1), t1, t2, t3, t4]\n",
    "        match_idx = match(score, match_array)\n",
    "        if match_idx == 0:\n",
    "            return 0\n",
    "\n",
    "        base = choose(match_idx, 0, self._previous_energy, e1, e2, e3, e4)\n",
    "        adjustment = score - choose(match_idx, 0, t1 - (t2 - t1), t1, t2, t3, t4)\n",
    "        denominator = choose(match_idx, t1 - (t2 - t1), t2 - t1, t2 - t1, t3 - t2, t4 - t3, t4 - t3)\n",
    "        factor = choose(match_idx, self._previous_energy, e1 - self._previous_energy, e2 - e1, e3 - e2, e4 - e3, e4 - e3)\n",
    "\n",
    "        if denominator == 0:\n",
    "            return 0\n",
    "        \n",
    "        result = base + (adjustment / denominator) * factor\n",
    "        return result\n",
    "\n",
    "    @property\n",
    "    def _ranks(self: \"AdvancedMixin\") -> Dict[str, int]:\n",
    "        return {\"Grandmaster\" : 900, \"Nova\" : 1000, \"Astra\" : 1100, \"Celestial\" : 1200}\n",
    "\n",
    "\n",
    "class Scenario:\n",
    "\n",
    "    def __init__(self, name: str, thresholds: Tuple[int, int, int, int]) -> None:\n",
    "        self.name = name\n",
    "        self.thresholds = thresholds\n",
    "\n",
    "\n",
    "class Benchmark(ABC):\n",
    "    def __init__(self: \"Benchmark\", scenario_a: Optional[Scenario] = None, scenario_b: Optional[Scenario] = None, sub_benchmarks: Optional[Tuple[\"Benchmark\", ...]] = None) -> None:\n",
    "\n",
    "        if sub_benchmarks is None and not any([scenario_a is None, scenario_b is None]):\n",
    "            self.scenario_a = scenario_a\n",
    "            self.scenario_b = scenario_b\n",
    "        elif scenario_a is None and scenario_b is None:\n",
    "            self.sub_benchmark = sub_benchmarks\n",
    "        else:\n",
    "            raise Exception(\"No data provided in the constructor\")\n",
    "\n",
    "class NoviceBenchmark(Benchmark, NoviceMixin):\n",
    "    pass\n",
    "\n",
    "class IntermediateBenchmark(Benchmark, IntermediateMixin):\n",
    "    pass\n",
    "\n",
    "class AdvancedBenchmark(Benchmark, AdvancedMixin):\n",
    "    pass"
   ]
  },
  {
   "cell_type": "code",
   "execution_count": 5,
   "metadata": {},
   "outputs": [],
   "source": [
    "# Scenarios and benchmarks\n",
    "\n",
    "class Scenarios(Enum):\n",
    "\n",
    "    # CLICKING\n",
    "    vt_pasu_rasp_novice = Scenario(name=\"VT Pasu Rasp Novice\", thresholds=(550,650,750,850))\n",
    "    vt_pasu_rasp_intermediate = Scenario(name=\"VT Pasu Rasp Intermediate\", thresholds=(750,850,950,1050))\n",
    "    vt_pasu_rasp_advanced = Scenario(name=\"VT Pasu Rasp Advanced\", thresholds=(940,1040,1120,1270))\n",
    "\n",
    "    vt_bounceshot_novice = Scenario(name=\"VT Bounceshot Novice\", thresholds=(500,600,700,800))\n",
    "    vt_bounceshot_intermediate = Scenario(name=\"VT Bounceshot Intermediate\", thresholds=(600,700,800,900))\n",
    "    vt_bounceshot_advanced = Scenario(name=\"VT Bounceshot Advanced\", thresholds=(800,900,1000,1150))\n",
    "\n",
    "    vt_1w6ts_rasp_novice = Scenario(name=\"VT 1w6ts Rasp Novice\", thresholds=(650,750,850,950))\n",
    "    vt_1w5ts_rasp_intermediate = Scenario(name=\"VT 1w5ts Rasp Intermediate\", thresholds=(1000,1100,1200,1300))\n",
    "    vt_1w3ts_rasp_advanced = Scenario(name=\"VT 1w3ts Rasp Advanced\", thresholds=(1280,1380,1460,1580))\n",
    "\n",
    "    vt_multiclick_120_novice = Scenario(name=\"VT Multiclick 120 Novice\", thresholds=(1160,1260,1360,1460))\n",
    "    vt_multiclick_120_intermediate = Scenario(name=\"VT Multiclick 120 Intermediate\", thresholds=(1360,1460,1560,1660))\n",
    "    vt_multiclick_120_advanced = Scenario(name=\"VT Multiclick 120 Advanced\", thresholds=(1630,1770,1890,2000))\n",
    "\n",
    "    # TRACKING\n",
    "    vt_smoothbot_novice = Scenario(name=\"VT Smoothbot Novice\", thresholds=(2300,2500,3100,3500))\n",
    "    vt_smoothbot_intermediate = Scenario(name=\"VT Smoothbot Intermediate\", thresholds=(3050,3450,3850,4250))\n",
    "    vt_smoothbot_advanced = Scenario(name=\"VT Smoothbot Advanced\", thresholds=(3300,3600,3950,4300))\n",
    "    \n",
    "    vt_preciseorb_novice = Scenario(name=\"VT PreciseOrb Novice\", thresholds=(1300,1600,1900,2200))\n",
    "    vt_preciseorb_intermediate = Scenario(name=\"VT PreciseOrb Intermediate\", thresholds=(1650,2050,2450,2850))\n",
    "    vt_preciseorb_advanced = Scenario(name=\"VT PreciseOrb Advanced\", thresholds=(2500,2850,3250,3650))\n",
    "\n",
    "    vt_plaza_novice = Scenario(name=\"VT Plaza Novice\", thresholds=(2150,2450,2850,3050))\n",
    "    vt_plaza_intermediate = Scenario(name=\"VT Plaza Intermediate\", thresholds=(2680,2980,3280,3530))\n",
    "    vt_plaza_advanced = Scenario(name=\"VT Plaza Advanced\", thresholds=(3275,3475,3600,3800))\n",
    "    \n",
    "    vt_air_novice = Scenario(name=\"VT Air Novice\", thresholds=(1900,2200,2500,2800))\n",
    "    vt_air_intermediate = Scenario(name=\"VT Air Intermediate\", thresholds=(2450,2700,2950,3200))\n",
    "    vt_air_advanced = Scenario(name=\"VT Air IntermedAdvancediate\", thresholds=(3000,3250,3500,3750))\n",
    "    \n",
    "    # SWITCHING\n",
    "    vt_psalmts_novice = Scenario(name=\"VT psalmTS Novice\", thresholds=(620,690,760,830))\n",
    "    vt_psalmts_intermediate = Scenario(name=\"VT psalmTS Intermediate\", thresholds=(810,880,950,1020))\n",
    "    vt_psalmts_advanced = Scenario(name=\"VT psalmTS Advanced\", thresholds=(1080,1160,1200,1330))\n",
    "    \n",
    "    vt_skyts_novice = Scenario(name=\"VT skyTS Novice\", thresholds=(780,860,950,1040))\n",
    "    vt_skyts_intermediate = Scenario(name=\"VT skyTS Intermediate\", thresholds=(1030,1130,1220,1300))\n",
    "    vt_skyts_advanced = Scenario(name=\"VT skyTS Advanced\", thresholds=(1300,1430,1500,1600))\n",
    "    \n",
    "    vt_evats_novice = Scenario(name=\"VT evaTS Novice\", thresholds=(450,510,560,620))\n",
    "    vt_evats_intermediate = Scenario(name=\"VT evaTS Intermediate\", thresholds=(550,600,650,700))\n",
    "    vt_evats_advanced = Scenario(name=\"VT evaTS Advanced\", thresholds=(680,740,780,830))\n",
    "    \n",
    "    vt_bouncets_novice = Scenario(name=\"VT bounceTS Novice\", thresholds=(490,550,610,680))\n",
    "    vt_bouncets_intermediate = Scenario(name=\"VT bounceTS Intermediate\", thresholds=(630,670,710,760))\n",
    "    vt_bouncets_advanced = Scenario(name=\"VT bounceTS Advanced\", thresholds=(820,920,970,1050))\n",
    "    \n",
    "    # STRAFING\n",
    "    vt_anglestrafe_intermediate = Scenario(name=\"VT AngleStrafe Intermediate\", thresholds=(740,830,920,1000))\n",
    "    vt_anglestrafe_advanced = Scenario(name=\"VT AngleStrafe Advanced\", thresholds=(880,1020,1150,1230))\n",
    "    \n",
    "    vt_arcstrafe_intermediate = Scenario(name=\"VT ArcStrafe Intermediate\", thresholds=(660,750,850,940))\n",
    "    vt_arcstrafe_advanced = Scenario(name=\"VT ArcStrafe Advanced\", thresholds=(940,1080,1150,1230))\n",
    "    \n",
    "    vt_patstrafe_intermediate = Scenario(name=\"VT PatStrafe Intermediate\", thresholds=(2260,2620,2800,3050))\n",
    "    vt_patstrafe_advanced = Scenario(name=\"VT PatStrafe Advanced\", thresholds=(3050,3240,3400,3500))\n",
    "    \n",
    "    vt_airstrafe_intermediate = Scenario(name=\"VT AirStrafe Intermediate\", thresholds=(2800,3000,3200,3400))\n",
    "    vt_airstrafe_advanced = Scenario(name=\"VT AirStrafe Advanced\", thresholds=(3400,3600,3700,3825))\n",
    "\n",
    "\n",
    "class Benchmarks(Enum):\n",
    "\n",
    "    # CLICKING  \n",
    "    nov_dyn_cli = NoviceBenchmark(scenario_a=Scenarios.vt_pasu_rasp_novice, scenario_b=Scenarios.vt_bounceshot_novice)\n",
    "    int_dyn_cli = IntermediateBenchmark(scenario_a=Scenarios.vt_pasu_rasp_intermediate, scenario_b=Scenarios.vt_bounceshot_intermediate)\n",
    "    adv_dyn_cli = AdvancedBenchmark(scenario_a=Scenarios.vt_pasu_rasp_advanced, scenario_b=Scenarios.vt_bounceshot_advanced)\n",
    "\n",
    "    nov_sta_cli = NoviceBenchmark(scenario_a=Scenarios.vt_1w6ts_rasp_novice, scenario_b=Scenarios.vt_multiclick_120_novice)\n",
    "    int_sta_cli = IntermediateBenchmark(scenario_a=Scenarios.vt_1w5ts_rasp_intermediate, scenario_b=Scenarios.vt_multiclick_120_intermediate)\n",
    "    adv_sta_cli = AdvancedBenchmark(scenario_a=Scenarios.vt_1w3ts_rasp_advanced, scenario_b=Scenarios.vt_multiclick_120_advanced)\n",
    "\n",
    "    # TRACKING\n",
    "    nov_smo_tra = NoviceBenchmark(scenario_a=Scenarios.vt_smoothbot_novice, scenario_b=Scenarios.vt_preciseorb_novice)\n",
    "    int_smo_tra = IntermediateBenchmark(scenario_a=Scenarios.vt_smoothbot_intermediate, scenario_b=Scenarios.vt_preciseorb_intermediate)\n",
    "    adv_smo_tra = AdvancedBenchmark(scenario_a=Scenarios.vt_smoothbot_advanced, scenario_b=Scenarios.vt_preciseorb_advanced)\n",
    "\n",
    "    nov_rea_tra = NoviceBenchmark(scenario_a=Scenarios.vt_plaza_novice, scenario_b=Scenarios.vt_air_novice)\n",
    "    int_rea_tra = IntermediateBenchmark(scenario_a=Scenarios.vt_plaza_intermediate, scenario_b=Scenarios.vt_air_intermediate)\n",
    "    adv_rea_tra = AdvancedBenchmark(scenario_a=Scenarios.vt_plaza_advanced, scenario_b=Scenarios.vt_air_advanced)\n",
    "\n",
    "    # SWITCHING\n",
    "    nov_spe_ts = NoviceBenchmark(scenario_a=Scenarios.vt_psalmts_novice, scenario_b=Scenarios.vt_skyts_novice)\n",
    "    int_spe_ts = IntermediateBenchmark(scenario_a=Scenarios.vt_psalmts_intermediate, scenario_b=Scenarios.vt_skyts_intermediate)\n",
    "    adv_spe_ts = AdvancedBenchmark(scenario_a=Scenarios.vt_psalmts_advanced, scenario_b=Scenarios.vt_skyts_advanced)\n",
    "\n",
    "    nov_eva_ts = NoviceBenchmark(scenario_a=Scenarios.vt_evats_novice, scenario_b=Scenarios.vt_bouncets_novice)\n",
    "    int_eva_ts = IntermediateBenchmark(scenario_a=Scenarios.vt_evats_intermediate, scenario_b=Scenarios.vt_bouncets_intermediate)\n",
    "    adv_eva_ts = AdvancedBenchmark(scenario_a=Scenarios.vt_evats_advanced, scenario_b=Scenarios.vt_bouncets_advanced)\n",
    "\n",
    "    # STRAFING\n",
    "    int_str_cli = IntermediateBenchmark(scenario_a=Scenarios.vt_anglestrafe_intermediate, scenario_b=Scenarios.vt_arcstrafe_intermediate)\n",
    "    adv_str_cli = AdvancedBenchmark(scenario_a=Scenarios.vt_anglestrafe_advanced, scenario_b=Scenarios.vt_arcstrafe_advanced)\n",
    "\n",
    "    int_str_tra = IntermediateBenchmark(scenario_a=Scenarios.vt_patstrafe_intermediate, scenario_b=Scenarios.vt_airstrafe_intermediate)\n",
    "    adv_str_tra = AdvancedBenchmark(scenario_a=Scenarios.vt_patstrafe_advanced, scenario_b=Scenarios.vt_airstrafe_advanced)"
   ]
  },
  {
   "cell_type": "code",
   "execution_count": 6,
   "metadata": {},
   "outputs": [],
   "source": [
    "def plot_progress(df, scenarios, nov, int, adv):\n",
    "    # NOV\n",
    "    df_ = df[df[\"scenario\"].isin(scenarios)]\n",
    "\n",
    "    a_scores = df_[df_[\"scenario\"] == scenarios[0]].set_index(\"submitted\").resample(\"6h\").max(numeric_only=True).dropna()[\"score\"]\n",
    "    b_scores = df_[df_[\"scenario\"] == scenarios[1]].set_index(\"submitted\").resample(\"6h\").max(numeric_only=True).dropna()[\"score\"]\n",
    "    df_ = pd.DataFrame([a_scores, b_scores]).T.interpolate(method=\"linear\")\n",
    "    energy = []\n",
    "    for a_score, b_score in df_.iloc:\n",
    "        result = nov.energy(a_score, b_score)\n",
    "        energy.append(result)\n",
    "        \n",
    "    df_[\"energy\"] = energy\n",
    "    df_[\"difficulty\"] = [\"Novice\" for _ in range(df_.shape[0])]\n",
    "    df_nov = df_.copy()\n",
    "\n",
    "    # INT\n",
    "    df_ = df[df[\"scenario\"].isin(scenarios)]\n",
    "\n",
    "    a_scores = df_[df_[\"scenario\"] == scenarios[2]].set_index(\"submitted\").resample(\"6h\").max(numeric_only=True).dropna()[\"score\"]\n",
    "    b_scores = df_[df_[\"scenario\"] == scenarios[3]].set_index(\"submitted\").resample(\"6h\").max(numeric_only=True).dropna()[\"score\"]\n",
    "    df_ = pd.DataFrame([a_scores, b_scores]).T.interpolate(method=\"linear\")\n",
    "    energy = []\n",
    "    for a_score, b_score in df_.iloc:\n",
    "        result = int.energy(a_score, b_score)\n",
    "        energy.append(result)\n",
    "        \n",
    "    df_[\"energy\"] = energy\n",
    "    df_[\"difficulty\"] = [\"Intermediate\" for _ in range(df_.shape[0])]\n",
    "    df_int = df_.copy()\n",
    "\n",
    "    # ADV\n",
    "    df_ = df[df[\"scenario\"].isin(scenarios)]\n",
    "\n",
    "    a_scores = df_[df_[\"scenario\"] == scenarios[4]].set_index(\"submitted\").resample(\"6h\").max(numeric_only=True).dropna()[\"score\"]\n",
    "    b_scores = df_[df_[\"scenario\"] == scenarios[5]].set_index(\"submitted\").resample(\"6h\").max(numeric_only=True).dropna()[\"score\"]\n",
    "    df_ = pd.DataFrame([a_scores, b_scores]).T.interpolate(method=\"linear\")\n",
    "    energy = []\n",
    "    for a_score, b_score in df_.iloc:\n",
    "        result = adv.energy(a_score, b_score)\n",
    "        energy.append(result)\n",
    "        \n",
    "    df_[\"energy\"] = energy\n",
    "    df_[\"difficulty\"] = [\"Advanced\" for _ in range(df_.shape[0])]\n",
    "    df_adv = df_.copy()\n",
    "\n",
    "    df_ = pd.concat([df_nov, df_int, df_adv])\n",
    "    df_ = df_.sort_index()\n",
    "\n",
    "    df_[\"personal_best\"] = df_.groupby('difficulty')['energy'].cummax()\n",
    "\n",
    "\n",
    "    colors = {\"Novice\" : \"rgba(0,0,255,.85)\", \"Intermediate\" : \"rgba(255,0,0,.85)\", \"Advanced\" : \"rgba(0,255,0,.85)\"}\n",
    "    fig = px.line(df_[\"energy\"], color=df_[\"difficulty\"])\n",
    "    fig.update_traces(opacity=0.7, line=dict(dash=\"dash\"))\n",
    "    for diff in df_[\"difficulty\"].unique():\n",
    "        filtered_df = df_[df_[\"difficulty\"] == diff]\n",
    "        color = colors[diff]\n",
    "        fig.add_trace(go.Scatter(\n",
    "            x=filtered_df.index,\n",
    "            y=filtered_df[\"personal_best\"],\n",
    "            line=dict(color=color),\n",
    "            mode=\"lines\",\n",
    "            name=f\"{diff} PB\"\n",
    "        ))\n",
    "    return fig"
   ]
  },
  {
   "cell_type": "code",
   "execution_count": 20,
   "metadata": {},
   "outputs": [
    {
     "data": {
      "application/vnd.plotly.v1+json": {
       "config": {
        "plotlyServerURL": "https://plot.ly"
       },
       "data": [
        {
         "hovertemplate": "color=Novice<br>variable=energy<br>submitted=%{x}<br>value=%{y}<extra></extra>",
         "legendgroup": "Novice",
         "line": {
          "color": "#636efa",
          "dash": "dash"
         },
         "marker": {
          "symbol": "circle"
         },
         "mode": "lines",
         "name": "Novice",
         "opacity": 0.7,
         "orientation": "v",
         "showlegend": true,
         "type": "scatter",
         "x": [
          "2024-08-26T12:00:00",
          "2024-08-29T00:00:00",
          "2024-08-30T00:00:00",
          "2024-09-01T18:00:00"
         ],
         "xaxis": "x",
         "y": [
          240,
          370,
          420,
          410
         ],
         "yaxis": "y"
        },
        {
         "hovertemplate": "color=Intermediate<br>variable=energy<br>submitted=%{x}<br>value=%{y}<extra></extra>",
         "legendgroup": "Intermediate",
         "line": {
          "color": "#EF553B",
          "dash": "dash"
         },
         "marker": {
          "symbol": "circle"
         },
         "mode": "lines",
         "name": "Intermediate",
         "opacity": 0.7,
         "orientation": "v",
         "showlegend": true,
         "type": "scatter",
         "x": [
          "2024-08-30T00:00:00",
          "2024-08-30T18:00:00",
          "2024-09-01T18:00:00",
          "2024-09-02T12:00:00",
          "2024-09-07T18:00:00",
          "2024-09-08T18:00:00",
          "2024-09-10T00:00:00",
          "2024-09-10T18:00:00",
          "2024-09-13T18:00:00",
          "2024-09-16T18:00:00",
          "2024-09-17T00:00:00",
          "2024-09-23T18:00:00"
         ],
         "xaxis": "x",
         "y": [
          393,
          550,
          480,
          420,
          420,
          440,
          460,
          425,
          393,
          540,
          515,
          510
         ],
         "yaxis": "y"
        },
        {
         "hovertemplate": "color=Advanced<br>variable=energy<br>submitted=%{x}<br>value=%{y}<extra></extra>",
         "legendgroup": "Advanced",
         "line": {
          "color": "#00cc96",
          "dash": "dash"
         },
         "marker": {
          "symbol": "circle"
         },
         "mode": "lines",
         "name": "Advanced",
         "opacity": 0.7,
         "orientation": "v",
         "showlegend": true,
         "type": "scatter",
         "x": [
          "2024-09-05T00:00:00"
         ],
         "xaxis": "x",
         "y": [
          342
         ],
         "yaxis": "y"
        },
        {
         "line": {
          "color": "rgba(0,0,255,.85)"
         },
         "mode": "lines",
         "name": "Novice PB",
         "type": "scatter",
         "x": [
          "2024-08-26T12:00:00",
          "2024-08-29T00:00:00",
          "2024-08-30T00:00:00",
          "2024-09-01T18:00:00"
         ],
         "y": [
          240,
          370,
          420,
          420
         ]
        },
        {
         "line": {
          "color": "rgba(255,0,0,.85)"
         },
         "mode": "lines",
         "name": "Intermediate PB",
         "type": "scatter",
         "x": [
          "2024-08-30T00:00:00",
          "2024-08-30T18:00:00",
          "2024-09-01T18:00:00",
          "2024-09-02T12:00:00",
          "2024-09-07T18:00:00",
          "2024-09-08T18:00:00",
          "2024-09-10T00:00:00",
          "2024-09-10T18:00:00",
          "2024-09-13T18:00:00",
          "2024-09-16T18:00:00",
          "2024-09-17T00:00:00",
          "2024-09-23T18:00:00"
         ],
         "y": [
          393,
          550,
          550,
          550,
          550,
          550,
          550,
          550,
          550,
          550,
          550,
          550
         ]
        },
        {
         "line": {
          "color": "rgba(0,255,0,.85)"
         },
         "mode": "lines",
         "name": "Advanced PB",
         "type": "scatter",
         "x": [
          "2024-09-05T00:00:00"
         ],
         "y": [
          342
         ]
        }
       ],
       "layout": {
        "legend": {
         "title": {
          "text": "color"
         },
         "tracegroupgap": 0
        },
        "margin": {
         "t": 60
        },
        "template": {
         "data": {
          "bar": [
           {
            "error_x": {
             "color": "#2a3f5f"
            },
            "error_y": {
             "color": "#2a3f5f"
            },
            "marker": {
             "line": {
              "color": "#E5ECF6",
              "width": 0.5
             },
             "pattern": {
              "fillmode": "overlay",
              "size": 10,
              "solidity": 0.2
             }
            },
            "type": "bar"
           }
          ],
          "barpolar": [
           {
            "marker": {
             "line": {
              "color": "#E5ECF6",
              "width": 0.5
             },
             "pattern": {
              "fillmode": "overlay",
              "size": 10,
              "solidity": 0.2
             }
            },
            "type": "barpolar"
           }
          ],
          "carpet": [
           {
            "aaxis": {
             "endlinecolor": "#2a3f5f",
             "gridcolor": "white",
             "linecolor": "white",
             "minorgridcolor": "white",
             "startlinecolor": "#2a3f5f"
            },
            "baxis": {
             "endlinecolor": "#2a3f5f",
             "gridcolor": "white",
             "linecolor": "white",
             "minorgridcolor": "white",
             "startlinecolor": "#2a3f5f"
            },
            "type": "carpet"
           }
          ],
          "choropleth": [
           {
            "colorbar": {
             "outlinewidth": 0,
             "ticks": ""
            },
            "type": "choropleth"
           }
          ],
          "contour": [
           {
            "colorbar": {
             "outlinewidth": 0,
             "ticks": ""
            },
            "colorscale": [
             [
              0,
              "#0d0887"
             ],
             [
              0.1111111111111111,
              "#46039f"
             ],
             [
              0.2222222222222222,
              "#7201a8"
             ],
             [
              0.3333333333333333,
              "#9c179e"
             ],
             [
              0.4444444444444444,
              "#bd3786"
             ],
             [
              0.5555555555555556,
              "#d8576b"
             ],
             [
              0.6666666666666666,
              "#ed7953"
             ],
             [
              0.7777777777777778,
              "#fb9f3a"
             ],
             [
              0.8888888888888888,
              "#fdca26"
             ],
             [
              1,
              "#f0f921"
             ]
            ],
            "type": "contour"
           }
          ],
          "contourcarpet": [
           {
            "colorbar": {
             "outlinewidth": 0,
             "ticks": ""
            },
            "type": "contourcarpet"
           }
          ],
          "heatmap": [
           {
            "colorbar": {
             "outlinewidth": 0,
             "ticks": ""
            },
            "colorscale": [
             [
              0,
              "#0d0887"
             ],
             [
              0.1111111111111111,
              "#46039f"
             ],
             [
              0.2222222222222222,
              "#7201a8"
             ],
             [
              0.3333333333333333,
              "#9c179e"
             ],
             [
              0.4444444444444444,
              "#bd3786"
             ],
             [
              0.5555555555555556,
              "#d8576b"
             ],
             [
              0.6666666666666666,
              "#ed7953"
             ],
             [
              0.7777777777777778,
              "#fb9f3a"
             ],
             [
              0.8888888888888888,
              "#fdca26"
             ],
             [
              1,
              "#f0f921"
             ]
            ],
            "type": "heatmap"
           }
          ],
          "heatmapgl": [
           {
            "colorbar": {
             "outlinewidth": 0,
             "ticks": ""
            },
            "colorscale": [
             [
              0,
              "#0d0887"
             ],
             [
              0.1111111111111111,
              "#46039f"
             ],
             [
              0.2222222222222222,
              "#7201a8"
             ],
             [
              0.3333333333333333,
              "#9c179e"
             ],
             [
              0.4444444444444444,
              "#bd3786"
             ],
             [
              0.5555555555555556,
              "#d8576b"
             ],
             [
              0.6666666666666666,
              "#ed7953"
             ],
             [
              0.7777777777777778,
              "#fb9f3a"
             ],
             [
              0.8888888888888888,
              "#fdca26"
             ],
             [
              1,
              "#f0f921"
             ]
            ],
            "type": "heatmapgl"
           }
          ],
          "histogram": [
           {
            "marker": {
             "pattern": {
              "fillmode": "overlay",
              "size": 10,
              "solidity": 0.2
             }
            },
            "type": "histogram"
           }
          ],
          "histogram2d": [
           {
            "colorbar": {
             "outlinewidth": 0,
             "ticks": ""
            },
            "colorscale": [
             [
              0,
              "#0d0887"
             ],
             [
              0.1111111111111111,
              "#46039f"
             ],
             [
              0.2222222222222222,
              "#7201a8"
             ],
             [
              0.3333333333333333,
              "#9c179e"
             ],
             [
              0.4444444444444444,
              "#bd3786"
             ],
             [
              0.5555555555555556,
              "#d8576b"
             ],
             [
              0.6666666666666666,
              "#ed7953"
             ],
             [
              0.7777777777777778,
              "#fb9f3a"
             ],
             [
              0.8888888888888888,
              "#fdca26"
             ],
             [
              1,
              "#f0f921"
             ]
            ],
            "type": "histogram2d"
           }
          ],
          "histogram2dcontour": [
           {
            "colorbar": {
             "outlinewidth": 0,
             "ticks": ""
            },
            "colorscale": [
             [
              0,
              "#0d0887"
             ],
             [
              0.1111111111111111,
              "#46039f"
             ],
             [
              0.2222222222222222,
              "#7201a8"
             ],
             [
              0.3333333333333333,
              "#9c179e"
             ],
             [
              0.4444444444444444,
              "#bd3786"
             ],
             [
              0.5555555555555556,
              "#d8576b"
             ],
             [
              0.6666666666666666,
              "#ed7953"
             ],
             [
              0.7777777777777778,
              "#fb9f3a"
             ],
             [
              0.8888888888888888,
              "#fdca26"
             ],
             [
              1,
              "#f0f921"
             ]
            ],
            "type": "histogram2dcontour"
           }
          ],
          "mesh3d": [
           {
            "colorbar": {
             "outlinewidth": 0,
             "ticks": ""
            },
            "type": "mesh3d"
           }
          ],
          "parcoords": [
           {
            "line": {
             "colorbar": {
              "outlinewidth": 0,
              "ticks": ""
             }
            },
            "type": "parcoords"
           }
          ],
          "pie": [
           {
            "automargin": true,
            "type": "pie"
           }
          ],
          "scatter": [
           {
            "fillpattern": {
             "fillmode": "overlay",
             "size": 10,
             "solidity": 0.2
            },
            "type": "scatter"
           }
          ],
          "scatter3d": [
           {
            "line": {
             "colorbar": {
              "outlinewidth": 0,
              "ticks": ""
             }
            },
            "marker": {
             "colorbar": {
              "outlinewidth": 0,
              "ticks": ""
             }
            },
            "type": "scatter3d"
           }
          ],
          "scattercarpet": [
           {
            "marker": {
             "colorbar": {
              "outlinewidth": 0,
              "ticks": ""
             }
            },
            "type": "scattercarpet"
           }
          ],
          "scattergeo": [
           {
            "marker": {
             "colorbar": {
              "outlinewidth": 0,
              "ticks": ""
             }
            },
            "type": "scattergeo"
           }
          ],
          "scattergl": [
           {
            "marker": {
             "colorbar": {
              "outlinewidth": 0,
              "ticks": ""
             }
            },
            "type": "scattergl"
           }
          ],
          "scattermapbox": [
           {
            "marker": {
             "colorbar": {
              "outlinewidth": 0,
              "ticks": ""
             }
            },
            "type": "scattermapbox"
           }
          ],
          "scatterpolar": [
           {
            "marker": {
             "colorbar": {
              "outlinewidth": 0,
              "ticks": ""
             }
            },
            "type": "scatterpolar"
           }
          ],
          "scatterpolargl": [
           {
            "marker": {
             "colorbar": {
              "outlinewidth": 0,
              "ticks": ""
             }
            },
            "type": "scatterpolargl"
           }
          ],
          "scatterternary": [
           {
            "marker": {
             "colorbar": {
              "outlinewidth": 0,
              "ticks": ""
             }
            },
            "type": "scatterternary"
           }
          ],
          "surface": [
           {
            "colorbar": {
             "outlinewidth": 0,
             "ticks": ""
            },
            "colorscale": [
             [
              0,
              "#0d0887"
             ],
             [
              0.1111111111111111,
              "#46039f"
             ],
             [
              0.2222222222222222,
              "#7201a8"
             ],
             [
              0.3333333333333333,
              "#9c179e"
             ],
             [
              0.4444444444444444,
              "#bd3786"
             ],
             [
              0.5555555555555556,
              "#d8576b"
             ],
             [
              0.6666666666666666,
              "#ed7953"
             ],
             [
              0.7777777777777778,
              "#fb9f3a"
             ],
             [
              0.8888888888888888,
              "#fdca26"
             ],
             [
              1,
              "#f0f921"
             ]
            ],
            "type": "surface"
           }
          ],
          "table": [
           {
            "cells": {
             "fill": {
              "color": "#EBF0F8"
             },
             "line": {
              "color": "white"
             }
            },
            "header": {
             "fill": {
              "color": "#C8D4E3"
             },
             "line": {
              "color": "white"
             }
            },
            "type": "table"
           }
          ]
         },
         "layout": {
          "annotationdefaults": {
           "arrowcolor": "#2a3f5f",
           "arrowhead": 0,
           "arrowwidth": 1
          },
          "autotypenumbers": "strict",
          "coloraxis": {
           "colorbar": {
            "outlinewidth": 0,
            "ticks": ""
           }
          },
          "colorscale": {
           "diverging": [
            [
             0,
             "#8e0152"
            ],
            [
             0.1,
             "#c51b7d"
            ],
            [
             0.2,
             "#de77ae"
            ],
            [
             0.3,
             "#f1b6da"
            ],
            [
             0.4,
             "#fde0ef"
            ],
            [
             0.5,
             "#f7f7f7"
            ],
            [
             0.6,
             "#e6f5d0"
            ],
            [
             0.7,
             "#b8e186"
            ],
            [
             0.8,
             "#7fbc41"
            ],
            [
             0.9,
             "#4d9221"
            ],
            [
             1,
             "#276419"
            ]
           ],
           "sequential": [
            [
             0,
             "#0d0887"
            ],
            [
             0.1111111111111111,
             "#46039f"
            ],
            [
             0.2222222222222222,
             "#7201a8"
            ],
            [
             0.3333333333333333,
             "#9c179e"
            ],
            [
             0.4444444444444444,
             "#bd3786"
            ],
            [
             0.5555555555555556,
             "#d8576b"
            ],
            [
             0.6666666666666666,
             "#ed7953"
            ],
            [
             0.7777777777777778,
             "#fb9f3a"
            ],
            [
             0.8888888888888888,
             "#fdca26"
            ],
            [
             1,
             "#f0f921"
            ]
           ],
           "sequentialminus": [
            [
             0,
             "#0d0887"
            ],
            [
             0.1111111111111111,
             "#46039f"
            ],
            [
             0.2222222222222222,
             "#7201a8"
            ],
            [
             0.3333333333333333,
             "#9c179e"
            ],
            [
             0.4444444444444444,
             "#bd3786"
            ],
            [
             0.5555555555555556,
             "#d8576b"
            ],
            [
             0.6666666666666666,
             "#ed7953"
            ],
            [
             0.7777777777777778,
             "#fb9f3a"
            ],
            [
             0.8888888888888888,
             "#fdca26"
            ],
            [
             1,
             "#f0f921"
            ]
           ]
          },
          "colorway": [
           "#636efa",
           "#EF553B",
           "#00cc96",
           "#ab63fa",
           "#FFA15A",
           "#19d3f3",
           "#FF6692",
           "#B6E880",
           "#FF97FF",
           "#FECB52"
          ],
          "font": {
           "color": "#2a3f5f"
          },
          "geo": {
           "bgcolor": "white",
           "lakecolor": "white",
           "landcolor": "#E5ECF6",
           "showlakes": true,
           "showland": true,
           "subunitcolor": "white"
          },
          "hoverlabel": {
           "align": "left"
          },
          "hovermode": "closest",
          "mapbox": {
           "style": "light"
          },
          "paper_bgcolor": "white",
          "plot_bgcolor": "#E5ECF6",
          "polar": {
           "angularaxis": {
            "gridcolor": "white",
            "linecolor": "white",
            "ticks": ""
           },
           "bgcolor": "#E5ECF6",
           "radialaxis": {
            "gridcolor": "white",
            "linecolor": "white",
            "ticks": ""
           }
          },
          "scene": {
           "xaxis": {
            "backgroundcolor": "#E5ECF6",
            "gridcolor": "white",
            "gridwidth": 2,
            "linecolor": "white",
            "showbackground": true,
            "ticks": "",
            "zerolinecolor": "white"
           },
           "yaxis": {
            "backgroundcolor": "#E5ECF6",
            "gridcolor": "white",
            "gridwidth": 2,
            "linecolor": "white",
            "showbackground": true,
            "ticks": "",
            "zerolinecolor": "white"
           },
           "zaxis": {
            "backgroundcolor": "#E5ECF6",
            "gridcolor": "white",
            "gridwidth": 2,
            "linecolor": "white",
            "showbackground": true,
            "ticks": "",
            "zerolinecolor": "white"
           }
          },
          "shapedefaults": {
           "line": {
            "color": "#2a3f5f"
           }
          },
          "ternary": {
           "aaxis": {
            "gridcolor": "white",
            "linecolor": "white",
            "ticks": ""
           },
           "baxis": {
            "gridcolor": "white",
            "linecolor": "white",
            "ticks": ""
           },
           "bgcolor": "#E5ECF6",
           "caxis": {
            "gridcolor": "white",
            "linecolor": "white",
            "ticks": ""
           }
          },
          "title": {
           "x": 0.05
          },
          "xaxis": {
           "automargin": true,
           "gridcolor": "white",
           "linecolor": "white",
           "ticks": "",
           "title": {
            "standoff": 15
           },
           "zerolinecolor": "white",
           "zerolinewidth": 2
          },
          "yaxis": {
           "automargin": true,
           "gridcolor": "white",
           "linecolor": "white",
           "ticks": "",
           "title": {
            "standoff": 15
           },
           "zerolinecolor": "white",
           "zerolinewidth": 2
          }
         }
        },
        "xaxis": {
         "anchor": "y",
         "domain": [
          0,
          1
         ],
         "title": {
          "text": "submitted"
         }
        },
        "yaxis": {
         "anchor": "x",
         "domain": [
          0,
          1
         ],
         "title": {
          "text": "value"
         }
        }
       }
      }
     },
     "metadata": {},
     "output_type": "display_data"
    }
   ],
   "source": [
    "scenarios = ['VT Pasu Rasp Novice', 'VT Bounceshot Novice', 'VT Pasu Rasp Intermediate', 'VT Bounceshot Intermediate', 'VT Pasu Rasp Advanced', 'VT Bounceshot Advanced']\n",
    "plot_progress(df, scenarios, nov_dyn_cli, int_dyn_cli, adv_dyn_cli)"
   ]
  },
  {
   "cell_type": "code",
   "execution_count": 21,
   "metadata": {},
   "outputs": [
    {
     "data": {
      "application/vnd.plotly.v1+json": {
       "config": {
        "plotlyServerURL": "https://plot.ly"
       },
       "data": [
        {
         "hovertemplate": "color=Novice<br>variable=energy<br>submitted=%{x}<br>value=%{y}<extra></extra>",
         "legendgroup": "Novice",
         "line": {
          "color": "#636efa",
          "dash": "dash"
         },
         "marker": {
          "symbol": "circle"
         },
         "mode": "lines",
         "name": "Novice",
         "opacity": 0.7,
         "orientation": "v",
         "showlegend": true,
         "type": "scatter",
         "x": [
          "2024-08-26T12:00:00",
          "2024-08-29T00:00:00",
          "2024-08-30T00:00:00"
         ],
         "xaxis": "x",
         "y": [
          380,
          430,
          430
         ],
         "yaxis": "y"
        },
        {
         "hovertemplate": "color=Intermediate<br>variable=energy<br>submitted=%{x}<br>value=%{y}<extra></extra>",
         "legendgroup": "Intermediate",
         "line": {
          "color": "#EF553B",
          "dash": "dash"
         },
         "marker": {
          "symbol": "circle"
         },
         "mode": "lines",
         "name": "Intermediate",
         "opacity": 0.7,
         "orientation": "v",
         "showlegend": true,
         "type": "scatter",
         "x": [
          "2024-08-30T00:00:00",
          "2024-08-30T18:00:00",
          "2024-09-01T18:00:00",
          "2024-09-03T18:00:00",
          "2024-09-05T00:00:00",
          "2024-09-06T18:00:00",
          "2024-09-07T18:00:00",
          "2024-09-10T18:00:00",
          "2024-09-13T18:00:00",
          "2024-09-14T12:00:00",
          "2024-09-17T18:00:00",
          "2024-09-24T18:00:00"
         ],
         "xaxis": "x",
         "y": [
          410,
          520,
          430,
          490,
          410,
          398,
          425,
          500,
          520,
          540,
          560,
          560
         ],
         "yaxis": "y"
        },
        {
         "hovertemplate": "color=Advanced<br>variable=energy<br>submitted=%{x}<br>value=%{y}<extra></extra>",
         "legendgroup": "Advanced",
         "line": {
          "color": "#00cc96",
          "dash": "dash"
         },
         "marker": {
          "symbol": "circle"
         },
         "mode": "lines",
         "name": "Advanced",
         "opacity": 0.7,
         "orientation": "v",
         "showlegend": true,
         "type": "scatter",
         "x": [
          "2024-09-05T00:00:00"
         ],
         "xaxis": "x",
         "y": [
          569
         ],
         "yaxis": "y"
        },
        {
         "line": {
          "color": "rgba(0,0,255,.85)"
         },
         "mode": "lines",
         "name": "Novice PB",
         "type": "scatter",
         "x": [
          "2024-08-26T12:00:00",
          "2024-08-29T00:00:00",
          "2024-08-30T00:00:00"
         ],
         "y": [
          380,
          430,
          430
         ]
        },
        {
         "line": {
          "color": "rgba(255,0,0,.85)"
         },
         "mode": "lines",
         "name": "Intermediate PB",
         "type": "scatter",
         "x": [
          "2024-08-30T00:00:00",
          "2024-08-30T18:00:00",
          "2024-09-01T18:00:00",
          "2024-09-03T18:00:00",
          "2024-09-05T00:00:00",
          "2024-09-06T18:00:00",
          "2024-09-07T18:00:00",
          "2024-09-10T18:00:00",
          "2024-09-13T18:00:00",
          "2024-09-14T12:00:00",
          "2024-09-17T18:00:00",
          "2024-09-24T18:00:00"
         ],
         "y": [
          410,
          520,
          520,
          520,
          520,
          520,
          520,
          520,
          520,
          540,
          560,
          560
         ]
        },
        {
         "line": {
          "color": "rgba(0,255,0,.85)"
         },
         "mode": "lines",
         "name": "Advanced PB",
         "type": "scatter",
         "x": [
          "2024-09-05T00:00:00"
         ],
         "y": [
          569
         ]
        }
       ],
       "layout": {
        "legend": {
         "title": {
          "text": "color"
         },
         "tracegroupgap": 0
        },
        "margin": {
         "t": 60
        },
        "template": {
         "data": {
          "bar": [
           {
            "error_x": {
             "color": "#2a3f5f"
            },
            "error_y": {
             "color": "#2a3f5f"
            },
            "marker": {
             "line": {
              "color": "#E5ECF6",
              "width": 0.5
             },
             "pattern": {
              "fillmode": "overlay",
              "size": 10,
              "solidity": 0.2
             }
            },
            "type": "bar"
           }
          ],
          "barpolar": [
           {
            "marker": {
             "line": {
              "color": "#E5ECF6",
              "width": 0.5
             },
             "pattern": {
              "fillmode": "overlay",
              "size": 10,
              "solidity": 0.2
             }
            },
            "type": "barpolar"
           }
          ],
          "carpet": [
           {
            "aaxis": {
             "endlinecolor": "#2a3f5f",
             "gridcolor": "white",
             "linecolor": "white",
             "minorgridcolor": "white",
             "startlinecolor": "#2a3f5f"
            },
            "baxis": {
             "endlinecolor": "#2a3f5f",
             "gridcolor": "white",
             "linecolor": "white",
             "minorgridcolor": "white",
             "startlinecolor": "#2a3f5f"
            },
            "type": "carpet"
           }
          ],
          "choropleth": [
           {
            "colorbar": {
             "outlinewidth": 0,
             "ticks": ""
            },
            "type": "choropleth"
           }
          ],
          "contour": [
           {
            "colorbar": {
             "outlinewidth": 0,
             "ticks": ""
            },
            "colorscale": [
             [
              0,
              "#0d0887"
             ],
             [
              0.1111111111111111,
              "#46039f"
             ],
             [
              0.2222222222222222,
              "#7201a8"
             ],
             [
              0.3333333333333333,
              "#9c179e"
             ],
             [
              0.4444444444444444,
              "#bd3786"
             ],
             [
              0.5555555555555556,
              "#d8576b"
             ],
             [
              0.6666666666666666,
              "#ed7953"
             ],
             [
              0.7777777777777778,
              "#fb9f3a"
             ],
             [
              0.8888888888888888,
              "#fdca26"
             ],
             [
              1,
              "#f0f921"
             ]
            ],
            "type": "contour"
           }
          ],
          "contourcarpet": [
           {
            "colorbar": {
             "outlinewidth": 0,
             "ticks": ""
            },
            "type": "contourcarpet"
           }
          ],
          "heatmap": [
           {
            "colorbar": {
             "outlinewidth": 0,
             "ticks": ""
            },
            "colorscale": [
             [
              0,
              "#0d0887"
             ],
             [
              0.1111111111111111,
              "#46039f"
             ],
             [
              0.2222222222222222,
              "#7201a8"
             ],
             [
              0.3333333333333333,
              "#9c179e"
             ],
             [
              0.4444444444444444,
              "#bd3786"
             ],
             [
              0.5555555555555556,
              "#d8576b"
             ],
             [
              0.6666666666666666,
              "#ed7953"
             ],
             [
              0.7777777777777778,
              "#fb9f3a"
             ],
             [
              0.8888888888888888,
              "#fdca26"
             ],
             [
              1,
              "#f0f921"
             ]
            ],
            "type": "heatmap"
           }
          ],
          "heatmapgl": [
           {
            "colorbar": {
             "outlinewidth": 0,
             "ticks": ""
            },
            "colorscale": [
             [
              0,
              "#0d0887"
             ],
             [
              0.1111111111111111,
              "#46039f"
             ],
             [
              0.2222222222222222,
              "#7201a8"
             ],
             [
              0.3333333333333333,
              "#9c179e"
             ],
             [
              0.4444444444444444,
              "#bd3786"
             ],
             [
              0.5555555555555556,
              "#d8576b"
             ],
             [
              0.6666666666666666,
              "#ed7953"
             ],
             [
              0.7777777777777778,
              "#fb9f3a"
             ],
             [
              0.8888888888888888,
              "#fdca26"
             ],
             [
              1,
              "#f0f921"
             ]
            ],
            "type": "heatmapgl"
           }
          ],
          "histogram": [
           {
            "marker": {
             "pattern": {
              "fillmode": "overlay",
              "size": 10,
              "solidity": 0.2
             }
            },
            "type": "histogram"
           }
          ],
          "histogram2d": [
           {
            "colorbar": {
             "outlinewidth": 0,
             "ticks": ""
            },
            "colorscale": [
             [
              0,
              "#0d0887"
             ],
             [
              0.1111111111111111,
              "#46039f"
             ],
             [
              0.2222222222222222,
              "#7201a8"
             ],
             [
              0.3333333333333333,
              "#9c179e"
             ],
             [
              0.4444444444444444,
              "#bd3786"
             ],
             [
              0.5555555555555556,
              "#d8576b"
             ],
             [
              0.6666666666666666,
              "#ed7953"
             ],
             [
              0.7777777777777778,
              "#fb9f3a"
             ],
             [
              0.8888888888888888,
              "#fdca26"
             ],
             [
              1,
              "#f0f921"
             ]
            ],
            "type": "histogram2d"
           }
          ],
          "histogram2dcontour": [
           {
            "colorbar": {
             "outlinewidth": 0,
             "ticks": ""
            },
            "colorscale": [
             [
              0,
              "#0d0887"
             ],
             [
              0.1111111111111111,
              "#46039f"
             ],
             [
              0.2222222222222222,
              "#7201a8"
             ],
             [
              0.3333333333333333,
              "#9c179e"
             ],
             [
              0.4444444444444444,
              "#bd3786"
             ],
             [
              0.5555555555555556,
              "#d8576b"
             ],
             [
              0.6666666666666666,
              "#ed7953"
             ],
             [
              0.7777777777777778,
              "#fb9f3a"
             ],
             [
              0.8888888888888888,
              "#fdca26"
             ],
             [
              1,
              "#f0f921"
             ]
            ],
            "type": "histogram2dcontour"
           }
          ],
          "mesh3d": [
           {
            "colorbar": {
             "outlinewidth": 0,
             "ticks": ""
            },
            "type": "mesh3d"
           }
          ],
          "parcoords": [
           {
            "line": {
             "colorbar": {
              "outlinewidth": 0,
              "ticks": ""
             }
            },
            "type": "parcoords"
           }
          ],
          "pie": [
           {
            "automargin": true,
            "type": "pie"
           }
          ],
          "scatter": [
           {
            "fillpattern": {
             "fillmode": "overlay",
             "size": 10,
             "solidity": 0.2
            },
            "type": "scatter"
           }
          ],
          "scatter3d": [
           {
            "line": {
             "colorbar": {
              "outlinewidth": 0,
              "ticks": ""
             }
            },
            "marker": {
             "colorbar": {
              "outlinewidth": 0,
              "ticks": ""
             }
            },
            "type": "scatter3d"
           }
          ],
          "scattercarpet": [
           {
            "marker": {
             "colorbar": {
              "outlinewidth": 0,
              "ticks": ""
             }
            },
            "type": "scattercarpet"
           }
          ],
          "scattergeo": [
           {
            "marker": {
             "colorbar": {
              "outlinewidth": 0,
              "ticks": ""
             }
            },
            "type": "scattergeo"
           }
          ],
          "scattergl": [
           {
            "marker": {
             "colorbar": {
              "outlinewidth": 0,
              "ticks": ""
             }
            },
            "type": "scattergl"
           }
          ],
          "scattermapbox": [
           {
            "marker": {
             "colorbar": {
              "outlinewidth": 0,
              "ticks": ""
             }
            },
            "type": "scattermapbox"
           }
          ],
          "scatterpolar": [
           {
            "marker": {
             "colorbar": {
              "outlinewidth": 0,
              "ticks": ""
             }
            },
            "type": "scatterpolar"
           }
          ],
          "scatterpolargl": [
           {
            "marker": {
             "colorbar": {
              "outlinewidth": 0,
              "ticks": ""
             }
            },
            "type": "scatterpolargl"
           }
          ],
          "scatterternary": [
           {
            "marker": {
             "colorbar": {
              "outlinewidth": 0,
              "ticks": ""
             }
            },
            "type": "scatterternary"
           }
          ],
          "surface": [
           {
            "colorbar": {
             "outlinewidth": 0,
             "ticks": ""
            },
            "colorscale": [
             [
              0,
              "#0d0887"
             ],
             [
              0.1111111111111111,
              "#46039f"
             ],
             [
              0.2222222222222222,
              "#7201a8"
             ],
             [
              0.3333333333333333,
              "#9c179e"
             ],
             [
              0.4444444444444444,
              "#bd3786"
             ],
             [
              0.5555555555555556,
              "#d8576b"
             ],
             [
              0.6666666666666666,
              "#ed7953"
             ],
             [
              0.7777777777777778,
              "#fb9f3a"
             ],
             [
              0.8888888888888888,
              "#fdca26"
             ],
             [
              1,
              "#f0f921"
             ]
            ],
            "type": "surface"
           }
          ],
          "table": [
           {
            "cells": {
             "fill": {
              "color": "#EBF0F8"
             },
             "line": {
              "color": "white"
             }
            },
            "header": {
             "fill": {
              "color": "#C8D4E3"
             },
             "line": {
              "color": "white"
             }
            },
            "type": "table"
           }
          ]
         },
         "layout": {
          "annotationdefaults": {
           "arrowcolor": "#2a3f5f",
           "arrowhead": 0,
           "arrowwidth": 1
          },
          "autotypenumbers": "strict",
          "coloraxis": {
           "colorbar": {
            "outlinewidth": 0,
            "ticks": ""
           }
          },
          "colorscale": {
           "diverging": [
            [
             0,
             "#8e0152"
            ],
            [
             0.1,
             "#c51b7d"
            ],
            [
             0.2,
             "#de77ae"
            ],
            [
             0.3,
             "#f1b6da"
            ],
            [
             0.4,
             "#fde0ef"
            ],
            [
             0.5,
             "#f7f7f7"
            ],
            [
             0.6,
             "#e6f5d0"
            ],
            [
             0.7,
             "#b8e186"
            ],
            [
             0.8,
             "#7fbc41"
            ],
            [
             0.9,
             "#4d9221"
            ],
            [
             1,
             "#276419"
            ]
           ],
           "sequential": [
            [
             0,
             "#0d0887"
            ],
            [
             0.1111111111111111,
             "#46039f"
            ],
            [
             0.2222222222222222,
             "#7201a8"
            ],
            [
             0.3333333333333333,
             "#9c179e"
            ],
            [
             0.4444444444444444,
             "#bd3786"
            ],
            [
             0.5555555555555556,
             "#d8576b"
            ],
            [
             0.6666666666666666,
             "#ed7953"
            ],
            [
             0.7777777777777778,
             "#fb9f3a"
            ],
            [
             0.8888888888888888,
             "#fdca26"
            ],
            [
             1,
             "#f0f921"
            ]
           ],
           "sequentialminus": [
            [
             0,
             "#0d0887"
            ],
            [
             0.1111111111111111,
             "#46039f"
            ],
            [
             0.2222222222222222,
             "#7201a8"
            ],
            [
             0.3333333333333333,
             "#9c179e"
            ],
            [
             0.4444444444444444,
             "#bd3786"
            ],
            [
             0.5555555555555556,
             "#d8576b"
            ],
            [
             0.6666666666666666,
             "#ed7953"
            ],
            [
             0.7777777777777778,
             "#fb9f3a"
            ],
            [
             0.8888888888888888,
             "#fdca26"
            ],
            [
             1,
             "#f0f921"
            ]
           ]
          },
          "colorway": [
           "#636efa",
           "#EF553B",
           "#00cc96",
           "#ab63fa",
           "#FFA15A",
           "#19d3f3",
           "#FF6692",
           "#B6E880",
           "#FF97FF",
           "#FECB52"
          ],
          "font": {
           "color": "#2a3f5f"
          },
          "geo": {
           "bgcolor": "white",
           "lakecolor": "white",
           "landcolor": "#E5ECF6",
           "showlakes": true,
           "showland": true,
           "subunitcolor": "white"
          },
          "hoverlabel": {
           "align": "left"
          },
          "hovermode": "closest",
          "mapbox": {
           "style": "light"
          },
          "paper_bgcolor": "white",
          "plot_bgcolor": "#E5ECF6",
          "polar": {
           "angularaxis": {
            "gridcolor": "white",
            "linecolor": "white",
            "ticks": ""
           },
           "bgcolor": "#E5ECF6",
           "radialaxis": {
            "gridcolor": "white",
            "linecolor": "white",
            "ticks": ""
           }
          },
          "scene": {
           "xaxis": {
            "backgroundcolor": "#E5ECF6",
            "gridcolor": "white",
            "gridwidth": 2,
            "linecolor": "white",
            "showbackground": true,
            "ticks": "",
            "zerolinecolor": "white"
           },
           "yaxis": {
            "backgroundcolor": "#E5ECF6",
            "gridcolor": "white",
            "gridwidth": 2,
            "linecolor": "white",
            "showbackground": true,
            "ticks": "",
            "zerolinecolor": "white"
           },
           "zaxis": {
            "backgroundcolor": "#E5ECF6",
            "gridcolor": "white",
            "gridwidth": 2,
            "linecolor": "white",
            "showbackground": true,
            "ticks": "",
            "zerolinecolor": "white"
           }
          },
          "shapedefaults": {
           "line": {
            "color": "#2a3f5f"
           }
          },
          "ternary": {
           "aaxis": {
            "gridcolor": "white",
            "linecolor": "white",
            "ticks": ""
           },
           "baxis": {
            "gridcolor": "white",
            "linecolor": "white",
            "ticks": ""
           },
           "bgcolor": "#E5ECF6",
           "caxis": {
            "gridcolor": "white",
            "linecolor": "white",
            "ticks": ""
           }
          },
          "title": {
           "x": 0.05
          },
          "xaxis": {
           "automargin": true,
           "gridcolor": "white",
           "linecolor": "white",
           "ticks": "",
           "title": {
            "standoff": 15
           },
           "zerolinecolor": "white",
           "zerolinewidth": 2
          },
          "yaxis": {
           "automargin": true,
           "gridcolor": "white",
           "linecolor": "white",
           "ticks": "",
           "title": {
            "standoff": 15
           },
           "zerolinecolor": "white",
           "zerolinewidth": 2
          }
         }
        },
        "xaxis": {
         "anchor": "y",
         "domain": [
          0,
          1
         ],
         "title": {
          "text": "submitted"
         }
        },
        "yaxis": {
         "anchor": "x",
         "domain": [
          0,
          1
         ],
         "title": {
          "text": "value"
         }
        }
       }
      }
     },
     "metadata": {},
     "output_type": "display_data"
    }
   ],
   "source": [
    "scenarios = ['VT 1w6ts Rasp Novice', 'VT Multiclick 120 Novice', 'VT 1w5ts Rasp Intermediate', 'VT Multiclick 120 Intermediate', 'VT 1w3ts Rasp Advanced', 'VT Multiclick 180 Advanced']\n",
    "plot_progress(df, scenarios, nov_sta_cli, int_sta_cli, adv_sta_cli)"
   ]
  },
  {
   "cell_type": "code",
   "execution_count": 7,
   "metadata": {},
   "outputs": [
    {
     "name": "stdout",
     "output_type": "stream",
     "text": [
      "1w2t smallflicks small 60s\n",
      "1w2ts reload\n",
      "1w2ts reload 10min\n",
      "1w4t shrink\n",
      "1w4ts 30% larger\n",
      "1w4ts Voltaic\n",
      "1w4t_vbr Raspberry\n",
      "1w6tmultilayerclosedodgeslowersmaller\n",
      "1w6ts reload\n",
      "1wall 2targets far smaller denserer\n",
      "1wall 2targets small\n",
      "1wall 6targets extra extra small far reload\n",
      "1wall 6targets extra small\n",
      "1wall 6targets far extra small\n",
      "1wall 6targets small\n",
      "1wall 6targets small movement\n",
      "1wall2targets TE\n",
      "1wall2targets_smallflicks 60s\n",
      "1wall5targets_pasu\n",
      "1wall5targets_pasu Reload\n",
      "1wall5targets_pasu slow\n",
      "1wall5targets_pasu slow 10m\n",
      "1wall5targets_pasu_reactive\n",
      "1wall5targets_pasu_small\n",
      "1wall6targets TE\n",
      "3D Switching\n",
      "5 Sphere Hipfire\n",
      "5 Sphere Hipfire Small\n",
      "5 Sphere Hipfire Small Reload\n",
      "6 Sphere Hipfire Voltaic\n",
      "6 sphere hipfire voltaic extra small\n",
      "air close long strafes 5m\n",
      "air far long strafes %70\n",
      "air far long strafes 5m\n",
      "air far long strafes 5m inf lives\n",
      "Air Voltaic Easy\n",
      "airTargetSwitch\n",
      "Amare beanClick Micro Far\n",
      "B180 30% Smaller 3-Click\n",
      "B180 Voltaic Easy\n",
      "B180 Voltaic Easy 10m\n",
      "B180 Voltaic Intermediate Barriers\n",
      "B180T Voltaic Easy\n",
      "beanClick\n",
      "beanTS\n",
      "Bounce 180 Sparky Jumbo\n",
      "Bounce 180 Tracking Large Slower TTK\n",
      "bounce 90t easy 10m\n",
      "canTS Logic\n",
      "Cata Reflex Easy\n",
      "Close FS Dodge\n",
      "Close FS Easy Dodge\n",
      "Close Long Strafes Easy\n",
      "Consecutive Tracking\n",
      "Controlsphere TS\n",
      "Cycle Strafes Mid Varied Easy\n",
      "Cycle Strafes Mid Varied Medium\n",
      "dev 1target\n",
      "Fireworks Flick Easy\n",
      "Fireworks Flick Small\n",
      "Floating Heads Timing 400%\n",
      "Floating Heads Timing 400% FIXED\n",
      "Flux Valorant Reflex Flick\n",
      "Fqmane\n",
      "fuglaaPressure\n",
      "FuglaaXYZ TS\n",
      "gp close long strafes 5m\n",
      "gp close long strafes 5m inf lives\n",
      "gp far long strafes 5m\n",
      "gp far long strafes 5m inf lives\n",
      "Ground Plaza Voltaic Easy\n",
      "horizontal flicks v2\n",
      "Jumbo 1wall6targets TE\n",
      "kinTargetSwitch No Reload\n",
      "kinTargetSwitch No Reload SLOW MORE HEALTH\n",
      "kinTS Voltaic Easy\n",
      "kinTS Voltaic Low TTK\n",
      "KovaaK's League S6\n",
      "Leapcorn Pure\n",
      "lgc3 Reborn Easy\n",
      "lgc3 Reborn Varied Thin\n",
      "Micro adjust 5 targets small\n",
      "Pasu Dodge\n",
      "pasu small reload\n",
      "pasu switch pure 30s\n",
      "Pasu Track Dodge\n",
      "Pasu TS 3D Easy\n",
      "Pasu Voltaic Easy\n",
      "Pasu Voltaic Small 3ShotR5\n",
      "patCircleSwitch NR\n",
      "patTargetSwitch 90 easy\n",
      "patTargetSwitch 90 easy 10m\n",
      "patTargetSwitch easy\n",
      "patTS Voltaic Easy\n",
      "Pokeball 1w4t shrink\n",
      "Pokeball 1w4ts 30%\n",
      "Pokeball 5 Sphere Hipfire Extra Small\n",
      "Pokeball Auto ww6ts\n",
      "Pokeball Frenzy Auto 1w2tes\n",
      "Pokeball Frenzy Auto 1w2ts\n",
      "Pokeball Frenzy Auto 1w4ts\n",
      "Pokevox Easy LG56\n",
      "Pokevox LG56\n",
      "Popcorn Voltaic\n",
      "Popcorn Voltaic Easy\n",
      "Pressure Aiming\n",
      "psalmTS Voltaic 30% Smaller Smooth\n",
      "psalmTS Voltaic Easy\n",
      "psalmTS Voltaic LowTTK\n",
      "PSGS Small\n",
      "RawMouseControl Reload\n",
      "Reactive Clicking Hard\n",
      "Reflex Flick\n",
      "Reflex Micro Flick 250ms\n",
      "Reflex Micro++ flick reload small\n",
      "Smoothbot TS Voltaic Easy\n",
      "Tall Wall 6 (Distance)\n",
      "Tamspeed 2bpes\n",
      "tamTargetSwitch Control\n",
      "tamTargetSwitch Control Hard\n",
      "TamTargetSwitch Control LowTTK LG56\n",
      "tamTargetSwitch Smooth\n",
      "tamTargetSwitch Smooth Hard\n",
      "Thin Aiming Long slow\n",
      "Thin Gauntlet Easy\n",
      "Thin Gauntlet V2\n",
      "Tile Frenzy 180 Strafing 200 Percent Tracking\n",
      "Tile Frenzy Flick 180 Small\n",
      "Valorant Reflex Flick Strafing\n",
      "Valorant Small Flicks\n",
      "Valorant Vertical Flicks\n",
      "ValTargetSwitch\n",
      "Voltaic AC 2\n",
      "voxTS Viscose Varied\n",
      "voxTS Voltaic Easy\n",
      "VoxTS Voltaic Jumbo Smooth\n",
      "voxTS Voltaic LowTTK\n",
      "VT 1w3ts Rasp Advanced\n",
      "VT 1w5ts Rasp Intermediate\n",
      "VT 1w6ts Rasp Novice\n",
      "VT Air Advanced Small\n",
      "VT Air Intermediate\n",
      "VT Air Intermediate Small\n",
      "VT Air Novice\n",
      "VT AngleStrafe Advanced Small\n",
      "VT AngleStrafe Intermediate\n",
      "VT ArcStrafe Advanced Smaller\n",
      "VT ArcStrafe Intermediate\n",
      "VT Bounceshot Advanced\n",
      "VT Bounceshot Advanced 20% smaller\n",
      "VT Bounceshot Barriers\n",
      "VT Bounceshot Intermediate\n",
      "VT Bounceshot Novice\n",
      "VT BounceTS Advanced 40% Smaller\n",
      "VT bounceTS Advanced 50% TTK\n",
      "VT bounceTS Advanced Regen\n",
      "VT bounceTS Intermediate\n",
      "VT bounceTS Intermediate 25% smaller\n",
      "VT bounceTS Intermediate 50% TTK\n",
      "VT bounceTS Novice\n",
      "VT bounceTS Novice Regen\n",
      "VT evaTS Advanced Low TTK\n",
      "VT evaTS Advanced Regen\n",
      "VT evaTS Intermediate\n",
      "VT evaTS Intermediate HARD LG56\n",
      "VT evaTS Novice\n",
      "VT MicroShot Valorant\n",
      "VT Multiclick 120 Intermediate\n",
      "VT Multiclick 120 Intermediate Cluster Focus LG56\n",
      "VT Multiclick 120 Intermediate LG56\n",
      "VT Multiclick 120 Intermediate Pokeball LG56\n",
      "VT Multiclick 120 Intermediate Speed Focus LG56\n",
      "VT Multiclick 120 Novice\n",
      "VT Multiclick 180 Advanced\n",
      "VT Pasu Rasp Advanced\n",
      "VT Pasu Rasp Intermediate\n",
      "VT Pasu Rasp Intermediate Speed Focus LG56\n",
      "VT Pasu Rasp Novice\n",
      "VT PatStrafe Advanced Hard\n",
      "VT PatStrafe Intermediate\n",
      "VT PatStrafe Platinum\n",
      "VT PeekShot Valorant\n",
      "VT Plaza Advanced Thin\n",
      "VT Plaza Intermediate\n",
      "VT Plaza Intermediate Thin\n",
      "VT Plaza Novice\n",
      "VT psalmTS Advanced Regen\n",
      "VT psalmTS Intermediate\n",
      "VT psalmTS Intermediate HARD LG56\n",
      "VT psalmTS Novice\n",
      "VT PulseShot Valorant\n",
      "VT SkyTS Advanced Smooth\n",
      "VT skyTS Intermediate\n",
      "VT skyTS Intermediate HARD LG56\n",
      "VT skyTS Novice\n",
      "Wide Wall 3 Targets\n",
      "Wide Wall 3 Targets TE\n",
      "Wide Wall 4 Targets\n",
      "Wide Wall 4 Targets Small\n",
      "Wide Wall 6Targets Pasu Reload\n",
      "ww3t Voltaic\n",
      "ww3t Voltaic 50% smaller\n"
     ]
    }
   ],
   "source": [
    "for scen in df[\"scenario\"].unique():\n",
    "    print(scen)"
   ]
  },
  {
   "cell_type": "code",
   "execution_count": 11,
   "metadata": {},
   "outputs": [
    {
     "data": {
      "application/vnd.plotly.v1+json": {
       "config": {
        "plotlyServerURL": "https://plot.ly"
       },
       "data": [],
       "layout": {
        "legend": {
         "tracegroupgap": 0
        },
        "margin": {
         "t": 60
        },
        "template": {
         "data": {
          "bar": [
           {
            "error_x": {
             "color": "#2a3f5f"
            },
            "error_y": {
             "color": "#2a3f5f"
            },
            "marker": {
             "line": {
              "color": "#E5ECF6",
              "width": 0.5
             },
             "pattern": {
              "fillmode": "overlay",
              "size": 10,
              "solidity": 0.2
             }
            },
            "type": "bar"
           }
          ],
          "barpolar": [
           {
            "marker": {
             "line": {
              "color": "#E5ECF6",
              "width": 0.5
             },
             "pattern": {
              "fillmode": "overlay",
              "size": 10,
              "solidity": 0.2
             }
            },
            "type": "barpolar"
           }
          ],
          "carpet": [
           {
            "aaxis": {
             "endlinecolor": "#2a3f5f",
             "gridcolor": "white",
             "linecolor": "white",
             "minorgridcolor": "white",
             "startlinecolor": "#2a3f5f"
            },
            "baxis": {
             "endlinecolor": "#2a3f5f",
             "gridcolor": "white",
             "linecolor": "white",
             "minorgridcolor": "white",
             "startlinecolor": "#2a3f5f"
            },
            "type": "carpet"
           }
          ],
          "choropleth": [
           {
            "colorbar": {
             "outlinewidth": 0,
             "ticks": ""
            },
            "type": "choropleth"
           }
          ],
          "contour": [
           {
            "colorbar": {
             "outlinewidth": 0,
             "ticks": ""
            },
            "colorscale": [
             [
              0,
              "#0d0887"
             ],
             [
              0.1111111111111111,
              "#46039f"
             ],
             [
              0.2222222222222222,
              "#7201a8"
             ],
             [
              0.3333333333333333,
              "#9c179e"
             ],
             [
              0.4444444444444444,
              "#bd3786"
             ],
             [
              0.5555555555555556,
              "#d8576b"
             ],
             [
              0.6666666666666666,
              "#ed7953"
             ],
             [
              0.7777777777777778,
              "#fb9f3a"
             ],
             [
              0.8888888888888888,
              "#fdca26"
             ],
             [
              1,
              "#f0f921"
             ]
            ],
            "type": "contour"
           }
          ],
          "contourcarpet": [
           {
            "colorbar": {
             "outlinewidth": 0,
             "ticks": ""
            },
            "type": "contourcarpet"
           }
          ],
          "heatmap": [
           {
            "colorbar": {
             "outlinewidth": 0,
             "ticks": ""
            },
            "colorscale": [
             [
              0,
              "#0d0887"
             ],
             [
              0.1111111111111111,
              "#46039f"
             ],
             [
              0.2222222222222222,
              "#7201a8"
             ],
             [
              0.3333333333333333,
              "#9c179e"
             ],
             [
              0.4444444444444444,
              "#bd3786"
             ],
             [
              0.5555555555555556,
              "#d8576b"
             ],
             [
              0.6666666666666666,
              "#ed7953"
             ],
             [
              0.7777777777777778,
              "#fb9f3a"
             ],
             [
              0.8888888888888888,
              "#fdca26"
             ],
             [
              1,
              "#f0f921"
             ]
            ],
            "type": "heatmap"
           }
          ],
          "heatmapgl": [
           {
            "colorbar": {
             "outlinewidth": 0,
             "ticks": ""
            },
            "colorscale": [
             [
              0,
              "#0d0887"
             ],
             [
              0.1111111111111111,
              "#46039f"
             ],
             [
              0.2222222222222222,
              "#7201a8"
             ],
             [
              0.3333333333333333,
              "#9c179e"
             ],
             [
              0.4444444444444444,
              "#bd3786"
             ],
             [
              0.5555555555555556,
              "#d8576b"
             ],
             [
              0.6666666666666666,
              "#ed7953"
             ],
             [
              0.7777777777777778,
              "#fb9f3a"
             ],
             [
              0.8888888888888888,
              "#fdca26"
             ],
             [
              1,
              "#f0f921"
             ]
            ],
            "type": "heatmapgl"
           }
          ],
          "histogram": [
           {
            "marker": {
             "pattern": {
              "fillmode": "overlay",
              "size": 10,
              "solidity": 0.2
             }
            },
            "type": "histogram"
           }
          ],
          "histogram2d": [
           {
            "colorbar": {
             "outlinewidth": 0,
             "ticks": ""
            },
            "colorscale": [
             [
              0,
              "#0d0887"
             ],
             [
              0.1111111111111111,
              "#46039f"
             ],
             [
              0.2222222222222222,
              "#7201a8"
             ],
             [
              0.3333333333333333,
              "#9c179e"
             ],
             [
              0.4444444444444444,
              "#bd3786"
             ],
             [
              0.5555555555555556,
              "#d8576b"
             ],
             [
              0.6666666666666666,
              "#ed7953"
             ],
             [
              0.7777777777777778,
              "#fb9f3a"
             ],
             [
              0.8888888888888888,
              "#fdca26"
             ],
             [
              1,
              "#f0f921"
             ]
            ],
            "type": "histogram2d"
           }
          ],
          "histogram2dcontour": [
           {
            "colorbar": {
             "outlinewidth": 0,
             "ticks": ""
            },
            "colorscale": [
             [
              0,
              "#0d0887"
             ],
             [
              0.1111111111111111,
              "#46039f"
             ],
             [
              0.2222222222222222,
              "#7201a8"
             ],
             [
              0.3333333333333333,
              "#9c179e"
             ],
             [
              0.4444444444444444,
              "#bd3786"
             ],
             [
              0.5555555555555556,
              "#d8576b"
             ],
             [
              0.6666666666666666,
              "#ed7953"
             ],
             [
              0.7777777777777778,
              "#fb9f3a"
             ],
             [
              0.8888888888888888,
              "#fdca26"
             ],
             [
              1,
              "#f0f921"
             ]
            ],
            "type": "histogram2dcontour"
           }
          ],
          "mesh3d": [
           {
            "colorbar": {
             "outlinewidth": 0,
             "ticks": ""
            },
            "type": "mesh3d"
           }
          ],
          "parcoords": [
           {
            "line": {
             "colorbar": {
              "outlinewidth": 0,
              "ticks": ""
             }
            },
            "type": "parcoords"
           }
          ],
          "pie": [
           {
            "automargin": true,
            "type": "pie"
           }
          ],
          "scatter": [
           {
            "fillpattern": {
             "fillmode": "overlay",
             "size": 10,
             "solidity": 0.2
            },
            "type": "scatter"
           }
          ],
          "scatter3d": [
           {
            "line": {
             "colorbar": {
              "outlinewidth": 0,
              "ticks": ""
             }
            },
            "marker": {
             "colorbar": {
              "outlinewidth": 0,
              "ticks": ""
             }
            },
            "type": "scatter3d"
           }
          ],
          "scattercarpet": [
           {
            "marker": {
             "colorbar": {
              "outlinewidth": 0,
              "ticks": ""
             }
            },
            "type": "scattercarpet"
           }
          ],
          "scattergeo": [
           {
            "marker": {
             "colorbar": {
              "outlinewidth": 0,
              "ticks": ""
             }
            },
            "type": "scattergeo"
           }
          ],
          "scattergl": [
           {
            "marker": {
             "colorbar": {
              "outlinewidth": 0,
              "ticks": ""
             }
            },
            "type": "scattergl"
           }
          ],
          "scattermapbox": [
           {
            "marker": {
             "colorbar": {
              "outlinewidth": 0,
              "ticks": ""
             }
            },
            "type": "scattermapbox"
           }
          ],
          "scatterpolar": [
           {
            "marker": {
             "colorbar": {
              "outlinewidth": 0,
              "ticks": ""
             }
            },
            "type": "scatterpolar"
           }
          ],
          "scatterpolargl": [
           {
            "marker": {
             "colorbar": {
              "outlinewidth": 0,
              "ticks": ""
             }
            },
            "type": "scatterpolargl"
           }
          ],
          "scatterternary": [
           {
            "marker": {
             "colorbar": {
              "outlinewidth": 0,
              "ticks": ""
             }
            },
            "type": "scatterternary"
           }
          ],
          "surface": [
           {
            "colorbar": {
             "outlinewidth": 0,
             "ticks": ""
            },
            "colorscale": [
             [
              0,
              "#0d0887"
             ],
             [
              0.1111111111111111,
              "#46039f"
             ],
             [
              0.2222222222222222,
              "#7201a8"
             ],
             [
              0.3333333333333333,
              "#9c179e"
             ],
             [
              0.4444444444444444,
              "#bd3786"
             ],
             [
              0.5555555555555556,
              "#d8576b"
             ],
             [
              0.6666666666666666,
              "#ed7953"
             ],
             [
              0.7777777777777778,
              "#fb9f3a"
             ],
             [
              0.8888888888888888,
              "#fdca26"
             ],
             [
              1,
              "#f0f921"
             ]
            ],
            "type": "surface"
           }
          ],
          "table": [
           {
            "cells": {
             "fill": {
              "color": "#EBF0F8"
             },
             "line": {
              "color": "white"
             }
            },
            "header": {
             "fill": {
              "color": "#C8D4E3"
             },
             "line": {
              "color": "white"
             }
            },
            "type": "table"
           }
          ]
         },
         "layout": {
          "annotationdefaults": {
           "arrowcolor": "#2a3f5f",
           "arrowhead": 0,
           "arrowwidth": 1
          },
          "autotypenumbers": "strict",
          "coloraxis": {
           "colorbar": {
            "outlinewidth": 0,
            "ticks": ""
           }
          },
          "colorscale": {
           "diverging": [
            [
             0,
             "#8e0152"
            ],
            [
             0.1,
             "#c51b7d"
            ],
            [
             0.2,
             "#de77ae"
            ],
            [
             0.3,
             "#f1b6da"
            ],
            [
             0.4,
             "#fde0ef"
            ],
            [
             0.5,
             "#f7f7f7"
            ],
            [
             0.6,
             "#e6f5d0"
            ],
            [
             0.7,
             "#b8e186"
            ],
            [
             0.8,
             "#7fbc41"
            ],
            [
             0.9,
             "#4d9221"
            ],
            [
             1,
             "#276419"
            ]
           ],
           "sequential": [
            [
             0,
             "#0d0887"
            ],
            [
             0.1111111111111111,
             "#46039f"
            ],
            [
             0.2222222222222222,
             "#7201a8"
            ],
            [
             0.3333333333333333,
             "#9c179e"
            ],
            [
             0.4444444444444444,
             "#bd3786"
            ],
            [
             0.5555555555555556,
             "#d8576b"
            ],
            [
             0.6666666666666666,
             "#ed7953"
            ],
            [
             0.7777777777777778,
             "#fb9f3a"
            ],
            [
             0.8888888888888888,
             "#fdca26"
            ],
            [
             1,
             "#f0f921"
            ]
           ],
           "sequentialminus": [
            [
             0,
             "#0d0887"
            ],
            [
             0.1111111111111111,
             "#46039f"
            ],
            [
             0.2222222222222222,
             "#7201a8"
            ],
            [
             0.3333333333333333,
             "#9c179e"
            ],
            [
             0.4444444444444444,
             "#bd3786"
            ],
            [
             0.5555555555555556,
             "#d8576b"
            ],
            [
             0.6666666666666666,
             "#ed7953"
            ],
            [
             0.7777777777777778,
             "#fb9f3a"
            ],
            [
             0.8888888888888888,
             "#fdca26"
            ],
            [
             1,
             "#f0f921"
            ]
           ]
          },
          "colorway": [
           "#636efa",
           "#EF553B",
           "#00cc96",
           "#ab63fa",
           "#FFA15A",
           "#19d3f3",
           "#FF6692",
           "#B6E880",
           "#FF97FF",
           "#FECB52"
          ],
          "font": {
           "color": "#2a3f5f"
          },
          "geo": {
           "bgcolor": "white",
           "lakecolor": "white",
           "landcolor": "#E5ECF6",
           "showlakes": true,
           "showland": true,
           "subunitcolor": "white"
          },
          "hoverlabel": {
           "align": "left"
          },
          "hovermode": "closest",
          "mapbox": {
           "style": "light"
          },
          "paper_bgcolor": "white",
          "plot_bgcolor": "#E5ECF6",
          "polar": {
           "angularaxis": {
            "gridcolor": "white",
            "linecolor": "white",
            "ticks": ""
           },
           "bgcolor": "#E5ECF6",
           "radialaxis": {
            "gridcolor": "white",
            "linecolor": "white",
            "ticks": ""
           }
          },
          "scene": {
           "xaxis": {
            "backgroundcolor": "#E5ECF6",
            "gridcolor": "white",
            "gridwidth": 2,
            "linecolor": "white",
            "showbackground": true,
            "ticks": "",
            "zerolinecolor": "white"
           },
           "yaxis": {
            "backgroundcolor": "#E5ECF6",
            "gridcolor": "white",
            "gridwidth": 2,
            "linecolor": "white",
            "showbackground": true,
            "ticks": "",
            "zerolinecolor": "white"
           },
           "zaxis": {
            "backgroundcolor": "#E5ECF6",
            "gridcolor": "white",
            "gridwidth": 2,
            "linecolor": "white",
            "showbackground": true,
            "ticks": "",
            "zerolinecolor": "white"
           }
          },
          "shapedefaults": {
           "line": {
            "color": "#2a3f5f"
           }
          },
          "ternary": {
           "aaxis": {
            "gridcolor": "white",
            "linecolor": "white",
            "ticks": ""
           },
           "baxis": {
            "gridcolor": "white",
            "linecolor": "white",
            "ticks": ""
           },
           "bgcolor": "#E5ECF6",
           "caxis": {
            "gridcolor": "white",
            "linecolor": "white",
            "ticks": ""
           }
          },
          "title": {
           "x": 0.05
          },
          "xaxis": {
           "automargin": true,
           "gridcolor": "white",
           "linecolor": "white",
           "ticks": "",
           "title": {
            "standoff": 15
           },
           "zerolinecolor": "white",
           "zerolinewidth": 2
          },
          "yaxis": {
           "automargin": true,
           "gridcolor": "white",
           "linecolor": "white",
           "ticks": "",
           "title": {
            "standoff": 15
           },
           "zerolinecolor": "white",
           "zerolinewidth": 2
          }
         }
        },
        "xaxis": {
         "anchor": "y",
         "domain": [
          0,
          1
         ],
         "title": {
          "text": "submitted"
         }
        },
        "yaxis": {
         "anchor": "x",
         "domain": [
          0,
          1
         ],
         "title": {
          "text": "value"
         }
        }
       }
      }
     },
     "metadata": {},
     "output_type": "display_data"
    }
   ],
   "source": [
    "scenarios = ['VT Smoothbot Novice', 'VT PreciseOrb Novice', 'VT Smoothbot Intermediate', 'VT PreciseOrb Intermediate', 'VT Smoothbot Advanced', 'VT PreciseOrb Advanced']\n",
    "plot_progress(df, scenarios, nov_smo_tra, int_smo_tra, adv_smo_tra)"
   ]
  },
  {
   "cell_type": "code",
   "execution_count": 9,
   "metadata": {},
   "outputs": [
    {
     "data": {
      "application/vnd.plotly.v1+json": {
       "config": {
        "plotlyServerURL": "https://plot.ly"
       },
       "data": [
        {
         "hovertemplate": "color=Novice<br>variable=energy<br>submitted=%{x}<br>value=%{y}<extra></extra>",
         "legendgroup": "Novice",
         "line": {
          "color": "#636efa",
          "dash": "dash"
         },
         "marker": {
          "symbol": "circle"
         },
         "mode": "lines",
         "name": "Novice",
         "opacity": 0.7,
         "orientation": "v",
         "showlegend": true,
         "type": "scatter",
         "x": [
          "2024-08-29T00:00:00",
          "2024-08-29T12:00:00",
          "2024-08-29T18:00:00",
          "2024-08-30T00:00:00"
         ],
         "xaxis": "x",
         "y": [
          429,
          464,
          499,
          499
         ],
         "yaxis": "y"
        },
        {
         "hovertemplate": "color=Intermediate<br>variable=energy<br>submitted=%{x}<br>value=%{y}<extra></extra>",
         "legendgroup": "Intermediate",
         "line": {
          "color": "#EF553B",
          "dash": "dash"
         },
         "marker": {
          "symbol": "circle"
         },
         "mode": "lines",
         "name": "Intermediate",
         "opacity": 0.7,
         "orientation": "v",
         "showlegend": true,
         "type": "scatter",
         "x": [
          "2024-08-30T00:00:00",
          "2024-09-03T18:00:00",
          "2024-09-05T18:00:00",
          "2024-09-06T00:00:00",
          "2024-09-07T00:00:00",
          "2024-09-08T18:00:00",
          "2024-09-12T18:00:00",
          "2024-09-13T18:00:00",
          "2024-09-14T12:00:00",
          "2024-09-20T18:00:00"
         ],
         "xaxis": "x",
         "y": [
          376,
          372,
          369,
          408,
          476,
          404,
          398,
          403,
          447,
          469
         ],
         "yaxis": "y"
        },
        {
         "line": {
          "color": "rgba(0,0,255,.85)"
         },
         "mode": "lines",
         "name": "Novice PB",
         "type": "scatter",
         "x": [
          "2024-08-29T00:00:00",
          "2024-08-29T12:00:00",
          "2024-08-29T18:00:00",
          "2024-08-30T00:00:00"
         ],
         "y": [
          429,
          464,
          499,
          499
         ]
        },
        {
         "line": {
          "color": "rgba(255,0,0,.85)"
         },
         "mode": "lines",
         "name": "Intermediate PB",
         "type": "scatter",
         "x": [
          "2024-08-30T00:00:00",
          "2024-09-03T18:00:00",
          "2024-09-05T18:00:00",
          "2024-09-06T00:00:00",
          "2024-09-07T00:00:00",
          "2024-09-08T18:00:00",
          "2024-09-12T18:00:00",
          "2024-09-13T18:00:00",
          "2024-09-14T12:00:00",
          "2024-09-20T18:00:00"
         ],
         "y": [
          376,
          376,
          376,
          408,
          476,
          476,
          476,
          476,
          476,
          476
         ]
        }
       ],
       "layout": {
        "legend": {
         "title": {
          "text": "color"
         },
         "tracegroupgap": 0
        },
        "margin": {
         "t": 60
        },
        "template": {
         "data": {
          "bar": [
           {
            "error_x": {
             "color": "#2a3f5f"
            },
            "error_y": {
             "color": "#2a3f5f"
            },
            "marker": {
             "line": {
              "color": "#E5ECF6",
              "width": 0.5
             },
             "pattern": {
              "fillmode": "overlay",
              "size": 10,
              "solidity": 0.2
             }
            },
            "type": "bar"
           }
          ],
          "barpolar": [
           {
            "marker": {
             "line": {
              "color": "#E5ECF6",
              "width": 0.5
             },
             "pattern": {
              "fillmode": "overlay",
              "size": 10,
              "solidity": 0.2
             }
            },
            "type": "barpolar"
           }
          ],
          "carpet": [
           {
            "aaxis": {
             "endlinecolor": "#2a3f5f",
             "gridcolor": "white",
             "linecolor": "white",
             "minorgridcolor": "white",
             "startlinecolor": "#2a3f5f"
            },
            "baxis": {
             "endlinecolor": "#2a3f5f",
             "gridcolor": "white",
             "linecolor": "white",
             "minorgridcolor": "white",
             "startlinecolor": "#2a3f5f"
            },
            "type": "carpet"
           }
          ],
          "choropleth": [
           {
            "colorbar": {
             "outlinewidth": 0,
             "ticks": ""
            },
            "type": "choropleth"
           }
          ],
          "contour": [
           {
            "colorbar": {
             "outlinewidth": 0,
             "ticks": ""
            },
            "colorscale": [
             [
              0,
              "#0d0887"
             ],
             [
              0.1111111111111111,
              "#46039f"
             ],
             [
              0.2222222222222222,
              "#7201a8"
             ],
             [
              0.3333333333333333,
              "#9c179e"
             ],
             [
              0.4444444444444444,
              "#bd3786"
             ],
             [
              0.5555555555555556,
              "#d8576b"
             ],
             [
              0.6666666666666666,
              "#ed7953"
             ],
             [
              0.7777777777777778,
              "#fb9f3a"
             ],
             [
              0.8888888888888888,
              "#fdca26"
             ],
             [
              1,
              "#f0f921"
             ]
            ],
            "type": "contour"
           }
          ],
          "contourcarpet": [
           {
            "colorbar": {
             "outlinewidth": 0,
             "ticks": ""
            },
            "type": "contourcarpet"
           }
          ],
          "heatmap": [
           {
            "colorbar": {
             "outlinewidth": 0,
             "ticks": ""
            },
            "colorscale": [
             [
              0,
              "#0d0887"
             ],
             [
              0.1111111111111111,
              "#46039f"
             ],
             [
              0.2222222222222222,
              "#7201a8"
             ],
             [
              0.3333333333333333,
              "#9c179e"
             ],
             [
              0.4444444444444444,
              "#bd3786"
             ],
             [
              0.5555555555555556,
              "#d8576b"
             ],
             [
              0.6666666666666666,
              "#ed7953"
             ],
             [
              0.7777777777777778,
              "#fb9f3a"
             ],
             [
              0.8888888888888888,
              "#fdca26"
             ],
             [
              1,
              "#f0f921"
             ]
            ],
            "type": "heatmap"
           }
          ],
          "heatmapgl": [
           {
            "colorbar": {
             "outlinewidth": 0,
             "ticks": ""
            },
            "colorscale": [
             [
              0,
              "#0d0887"
             ],
             [
              0.1111111111111111,
              "#46039f"
             ],
             [
              0.2222222222222222,
              "#7201a8"
             ],
             [
              0.3333333333333333,
              "#9c179e"
             ],
             [
              0.4444444444444444,
              "#bd3786"
             ],
             [
              0.5555555555555556,
              "#d8576b"
             ],
             [
              0.6666666666666666,
              "#ed7953"
             ],
             [
              0.7777777777777778,
              "#fb9f3a"
             ],
             [
              0.8888888888888888,
              "#fdca26"
             ],
             [
              1,
              "#f0f921"
             ]
            ],
            "type": "heatmapgl"
           }
          ],
          "histogram": [
           {
            "marker": {
             "pattern": {
              "fillmode": "overlay",
              "size": 10,
              "solidity": 0.2
             }
            },
            "type": "histogram"
           }
          ],
          "histogram2d": [
           {
            "colorbar": {
             "outlinewidth": 0,
             "ticks": ""
            },
            "colorscale": [
             [
              0,
              "#0d0887"
             ],
             [
              0.1111111111111111,
              "#46039f"
             ],
             [
              0.2222222222222222,
              "#7201a8"
             ],
             [
              0.3333333333333333,
              "#9c179e"
             ],
             [
              0.4444444444444444,
              "#bd3786"
             ],
             [
              0.5555555555555556,
              "#d8576b"
             ],
             [
              0.6666666666666666,
              "#ed7953"
             ],
             [
              0.7777777777777778,
              "#fb9f3a"
             ],
             [
              0.8888888888888888,
              "#fdca26"
             ],
             [
              1,
              "#f0f921"
             ]
            ],
            "type": "histogram2d"
           }
          ],
          "histogram2dcontour": [
           {
            "colorbar": {
             "outlinewidth": 0,
             "ticks": ""
            },
            "colorscale": [
             [
              0,
              "#0d0887"
             ],
             [
              0.1111111111111111,
              "#46039f"
             ],
             [
              0.2222222222222222,
              "#7201a8"
             ],
             [
              0.3333333333333333,
              "#9c179e"
             ],
             [
              0.4444444444444444,
              "#bd3786"
             ],
             [
              0.5555555555555556,
              "#d8576b"
             ],
             [
              0.6666666666666666,
              "#ed7953"
             ],
             [
              0.7777777777777778,
              "#fb9f3a"
             ],
             [
              0.8888888888888888,
              "#fdca26"
             ],
             [
              1,
              "#f0f921"
             ]
            ],
            "type": "histogram2dcontour"
           }
          ],
          "mesh3d": [
           {
            "colorbar": {
             "outlinewidth": 0,
             "ticks": ""
            },
            "type": "mesh3d"
           }
          ],
          "parcoords": [
           {
            "line": {
             "colorbar": {
              "outlinewidth": 0,
              "ticks": ""
             }
            },
            "type": "parcoords"
           }
          ],
          "pie": [
           {
            "automargin": true,
            "type": "pie"
           }
          ],
          "scatter": [
           {
            "fillpattern": {
             "fillmode": "overlay",
             "size": 10,
             "solidity": 0.2
            },
            "type": "scatter"
           }
          ],
          "scatter3d": [
           {
            "line": {
             "colorbar": {
              "outlinewidth": 0,
              "ticks": ""
             }
            },
            "marker": {
             "colorbar": {
              "outlinewidth": 0,
              "ticks": ""
             }
            },
            "type": "scatter3d"
           }
          ],
          "scattercarpet": [
           {
            "marker": {
             "colorbar": {
              "outlinewidth": 0,
              "ticks": ""
             }
            },
            "type": "scattercarpet"
           }
          ],
          "scattergeo": [
           {
            "marker": {
             "colorbar": {
              "outlinewidth": 0,
              "ticks": ""
             }
            },
            "type": "scattergeo"
           }
          ],
          "scattergl": [
           {
            "marker": {
             "colorbar": {
              "outlinewidth": 0,
              "ticks": ""
             }
            },
            "type": "scattergl"
           }
          ],
          "scattermapbox": [
           {
            "marker": {
             "colorbar": {
              "outlinewidth": 0,
              "ticks": ""
             }
            },
            "type": "scattermapbox"
           }
          ],
          "scatterpolar": [
           {
            "marker": {
             "colorbar": {
              "outlinewidth": 0,
              "ticks": ""
             }
            },
            "type": "scatterpolar"
           }
          ],
          "scatterpolargl": [
           {
            "marker": {
             "colorbar": {
              "outlinewidth": 0,
              "ticks": ""
             }
            },
            "type": "scatterpolargl"
           }
          ],
          "scatterternary": [
           {
            "marker": {
             "colorbar": {
              "outlinewidth": 0,
              "ticks": ""
             }
            },
            "type": "scatterternary"
           }
          ],
          "surface": [
           {
            "colorbar": {
             "outlinewidth": 0,
             "ticks": ""
            },
            "colorscale": [
             [
              0,
              "#0d0887"
             ],
             [
              0.1111111111111111,
              "#46039f"
             ],
             [
              0.2222222222222222,
              "#7201a8"
             ],
             [
              0.3333333333333333,
              "#9c179e"
             ],
             [
              0.4444444444444444,
              "#bd3786"
             ],
             [
              0.5555555555555556,
              "#d8576b"
             ],
             [
              0.6666666666666666,
              "#ed7953"
             ],
             [
              0.7777777777777778,
              "#fb9f3a"
             ],
             [
              0.8888888888888888,
              "#fdca26"
             ],
             [
              1,
              "#f0f921"
             ]
            ],
            "type": "surface"
           }
          ],
          "table": [
           {
            "cells": {
             "fill": {
              "color": "#EBF0F8"
             },
             "line": {
              "color": "white"
             }
            },
            "header": {
             "fill": {
              "color": "#C8D4E3"
             },
             "line": {
              "color": "white"
             }
            },
            "type": "table"
           }
          ]
         },
         "layout": {
          "annotationdefaults": {
           "arrowcolor": "#2a3f5f",
           "arrowhead": 0,
           "arrowwidth": 1
          },
          "autotypenumbers": "strict",
          "coloraxis": {
           "colorbar": {
            "outlinewidth": 0,
            "ticks": ""
           }
          },
          "colorscale": {
           "diverging": [
            [
             0,
             "#8e0152"
            ],
            [
             0.1,
             "#c51b7d"
            ],
            [
             0.2,
             "#de77ae"
            ],
            [
             0.3,
             "#f1b6da"
            ],
            [
             0.4,
             "#fde0ef"
            ],
            [
             0.5,
             "#f7f7f7"
            ],
            [
             0.6,
             "#e6f5d0"
            ],
            [
             0.7,
             "#b8e186"
            ],
            [
             0.8,
             "#7fbc41"
            ],
            [
             0.9,
             "#4d9221"
            ],
            [
             1,
             "#276419"
            ]
           ],
           "sequential": [
            [
             0,
             "#0d0887"
            ],
            [
             0.1111111111111111,
             "#46039f"
            ],
            [
             0.2222222222222222,
             "#7201a8"
            ],
            [
             0.3333333333333333,
             "#9c179e"
            ],
            [
             0.4444444444444444,
             "#bd3786"
            ],
            [
             0.5555555555555556,
             "#d8576b"
            ],
            [
             0.6666666666666666,
             "#ed7953"
            ],
            [
             0.7777777777777778,
             "#fb9f3a"
            ],
            [
             0.8888888888888888,
             "#fdca26"
            ],
            [
             1,
             "#f0f921"
            ]
           ],
           "sequentialminus": [
            [
             0,
             "#0d0887"
            ],
            [
             0.1111111111111111,
             "#46039f"
            ],
            [
             0.2222222222222222,
             "#7201a8"
            ],
            [
             0.3333333333333333,
             "#9c179e"
            ],
            [
             0.4444444444444444,
             "#bd3786"
            ],
            [
             0.5555555555555556,
             "#d8576b"
            ],
            [
             0.6666666666666666,
             "#ed7953"
            ],
            [
             0.7777777777777778,
             "#fb9f3a"
            ],
            [
             0.8888888888888888,
             "#fdca26"
            ],
            [
             1,
             "#f0f921"
            ]
           ]
          },
          "colorway": [
           "#636efa",
           "#EF553B",
           "#00cc96",
           "#ab63fa",
           "#FFA15A",
           "#19d3f3",
           "#FF6692",
           "#B6E880",
           "#FF97FF",
           "#FECB52"
          ],
          "font": {
           "color": "#2a3f5f"
          },
          "geo": {
           "bgcolor": "white",
           "lakecolor": "white",
           "landcolor": "#E5ECF6",
           "showlakes": true,
           "showland": true,
           "subunitcolor": "white"
          },
          "hoverlabel": {
           "align": "left"
          },
          "hovermode": "closest",
          "mapbox": {
           "style": "light"
          },
          "paper_bgcolor": "white",
          "plot_bgcolor": "#E5ECF6",
          "polar": {
           "angularaxis": {
            "gridcolor": "white",
            "linecolor": "white",
            "ticks": ""
           },
           "bgcolor": "#E5ECF6",
           "radialaxis": {
            "gridcolor": "white",
            "linecolor": "white",
            "ticks": ""
           }
          },
          "scene": {
           "xaxis": {
            "backgroundcolor": "#E5ECF6",
            "gridcolor": "white",
            "gridwidth": 2,
            "linecolor": "white",
            "showbackground": true,
            "ticks": "",
            "zerolinecolor": "white"
           },
           "yaxis": {
            "backgroundcolor": "#E5ECF6",
            "gridcolor": "white",
            "gridwidth": 2,
            "linecolor": "white",
            "showbackground": true,
            "ticks": "",
            "zerolinecolor": "white"
           },
           "zaxis": {
            "backgroundcolor": "#E5ECF6",
            "gridcolor": "white",
            "gridwidth": 2,
            "linecolor": "white",
            "showbackground": true,
            "ticks": "",
            "zerolinecolor": "white"
           }
          },
          "shapedefaults": {
           "line": {
            "color": "#2a3f5f"
           }
          },
          "ternary": {
           "aaxis": {
            "gridcolor": "white",
            "linecolor": "white",
            "ticks": ""
           },
           "baxis": {
            "gridcolor": "white",
            "linecolor": "white",
            "ticks": ""
           },
           "bgcolor": "#E5ECF6",
           "caxis": {
            "gridcolor": "white",
            "linecolor": "white",
            "ticks": ""
           }
          },
          "title": {
           "x": 0.05
          },
          "xaxis": {
           "automargin": true,
           "gridcolor": "white",
           "linecolor": "white",
           "ticks": "",
           "title": {
            "standoff": 15
           },
           "zerolinecolor": "white",
           "zerolinewidth": 2
          },
          "yaxis": {
           "automargin": true,
           "gridcolor": "white",
           "linecolor": "white",
           "ticks": "",
           "title": {
            "standoff": 15
           },
           "zerolinecolor": "white",
           "zerolinewidth": 2
          }
         }
        },
        "xaxis": {
         "anchor": "y",
         "domain": [
          0,
          1
         ],
         "title": {
          "text": "submitted"
         }
        },
        "yaxis": {
         "anchor": "x",
         "domain": [
          0,
          1
         ],
         "title": {
          "text": "value"
         }
        }
       }
      }
     },
     "metadata": {},
     "output_type": "display_data"
    }
   ],
   "source": [
    "scenarios = ['VT Plaza Novice', 'VT Air Novice', 'VT Plaza Intermediate', 'VT Air Intermediate', 'VT Plaza Advanced', 'VT Air Advanced']\n",
    "plot_progress(df, scenarios, nov_rea_tra, int_rea_tra, adv_rea_tra)"
   ]
  },
  {
   "cell_type": "code",
   "execution_count": 16,
   "metadata": {},
   "outputs": [
    {
     "data": {
      "application/vnd.plotly.v1+json": {
       "config": {
        "plotlyServerURL": "https://plot.ly"
       },
       "data": [
        {
         "hovertemplate": "color=Novice<br>variable=energy<br>submitted=%{x}<br>value=%{y}<extra></extra>",
         "legendgroup": "Novice",
         "line": {
          "color": "#636efa",
          "dash": "dash"
         },
         "marker": {
          "symbol": "circle"
         },
         "mode": "lines",
         "name": "Novice",
         "opacity": 0.7,
         "orientation": "v",
         "showlegend": true,
         "type": "scatter",
         "x": [
          "2024-08-29T00:00:00",
          "2024-08-30T00:00:00",
          "2024-08-30T12:00:00",
          "2024-09-01T12:00:00",
          "2024-09-04T00:00:00"
         ],
         "xaxis": "x",
         "y": [
          244,
          333,
          433,
          433,
          433
         ],
         "yaxis": "y"
        },
        {
         "hovertemplate": "color=Intermediate<br>variable=energy<br>submitted=%{x}<br>value=%{y}<extra></extra>",
         "legendgroup": "Intermediate",
         "line": {
          "color": "#EF553B",
          "dash": "dash"
         },
         "marker": {
          "symbol": "circle"
         },
         "mode": "lines",
         "name": "Intermediate",
         "opacity": 0.7,
         "orientation": "v",
         "showlegend": true,
         "type": "scatter",
         "x": [
          "2024-08-30T18:00:00",
          "2024-09-01T18:00:00",
          "2024-09-06T18:00:00",
          "2024-09-13T18:00:00",
          "2024-09-20T18:00:00",
          "2024-09-22T00:00:00"
         ],
         "xaxis": "x",
         "y": [
          500,
          445,
          542,
          528,
          538,
          517
         ],
         "yaxis": "y"
        },
        {
         "line": {
          "color": "rgba(0,0,255,.85)"
         },
         "mode": "lines",
         "name": "Novice PB",
         "type": "scatter",
         "x": [
          "2024-08-29T00:00:00",
          "2024-08-30T00:00:00",
          "2024-08-30T12:00:00",
          "2024-09-01T12:00:00",
          "2024-09-04T00:00:00"
         ],
         "y": [
          244,
          333,
          433,
          433,
          433
         ]
        },
        {
         "line": {
          "color": "rgba(255,0,0,.85)"
         },
         "mode": "lines",
         "name": "Intermediate PB",
         "type": "scatter",
         "x": [
          "2024-08-30T18:00:00",
          "2024-09-01T18:00:00",
          "2024-09-06T18:00:00",
          "2024-09-13T18:00:00",
          "2024-09-20T18:00:00",
          "2024-09-22T00:00:00"
         ],
         "y": [
          500,
          500,
          542,
          542,
          542,
          542
         ]
        }
       ],
       "layout": {
        "legend": {
         "title": {
          "text": "color"
         },
         "tracegroupgap": 0
        },
        "margin": {
         "t": 60
        },
        "template": {
         "data": {
          "bar": [
           {
            "error_x": {
             "color": "#2a3f5f"
            },
            "error_y": {
             "color": "#2a3f5f"
            },
            "marker": {
             "line": {
              "color": "#E5ECF6",
              "width": 0.5
             },
             "pattern": {
              "fillmode": "overlay",
              "size": 10,
              "solidity": 0.2
             }
            },
            "type": "bar"
           }
          ],
          "barpolar": [
           {
            "marker": {
             "line": {
              "color": "#E5ECF6",
              "width": 0.5
             },
             "pattern": {
              "fillmode": "overlay",
              "size": 10,
              "solidity": 0.2
             }
            },
            "type": "barpolar"
           }
          ],
          "carpet": [
           {
            "aaxis": {
             "endlinecolor": "#2a3f5f",
             "gridcolor": "white",
             "linecolor": "white",
             "minorgridcolor": "white",
             "startlinecolor": "#2a3f5f"
            },
            "baxis": {
             "endlinecolor": "#2a3f5f",
             "gridcolor": "white",
             "linecolor": "white",
             "minorgridcolor": "white",
             "startlinecolor": "#2a3f5f"
            },
            "type": "carpet"
           }
          ],
          "choropleth": [
           {
            "colorbar": {
             "outlinewidth": 0,
             "ticks": ""
            },
            "type": "choropleth"
           }
          ],
          "contour": [
           {
            "colorbar": {
             "outlinewidth": 0,
             "ticks": ""
            },
            "colorscale": [
             [
              0,
              "#0d0887"
             ],
             [
              0.1111111111111111,
              "#46039f"
             ],
             [
              0.2222222222222222,
              "#7201a8"
             ],
             [
              0.3333333333333333,
              "#9c179e"
             ],
             [
              0.4444444444444444,
              "#bd3786"
             ],
             [
              0.5555555555555556,
              "#d8576b"
             ],
             [
              0.6666666666666666,
              "#ed7953"
             ],
             [
              0.7777777777777778,
              "#fb9f3a"
             ],
             [
              0.8888888888888888,
              "#fdca26"
             ],
             [
              1,
              "#f0f921"
             ]
            ],
            "type": "contour"
           }
          ],
          "contourcarpet": [
           {
            "colorbar": {
             "outlinewidth": 0,
             "ticks": ""
            },
            "type": "contourcarpet"
           }
          ],
          "heatmap": [
           {
            "colorbar": {
             "outlinewidth": 0,
             "ticks": ""
            },
            "colorscale": [
             [
              0,
              "#0d0887"
             ],
             [
              0.1111111111111111,
              "#46039f"
             ],
             [
              0.2222222222222222,
              "#7201a8"
             ],
             [
              0.3333333333333333,
              "#9c179e"
             ],
             [
              0.4444444444444444,
              "#bd3786"
             ],
             [
              0.5555555555555556,
              "#d8576b"
             ],
             [
              0.6666666666666666,
              "#ed7953"
             ],
             [
              0.7777777777777778,
              "#fb9f3a"
             ],
             [
              0.8888888888888888,
              "#fdca26"
             ],
             [
              1,
              "#f0f921"
             ]
            ],
            "type": "heatmap"
           }
          ],
          "heatmapgl": [
           {
            "colorbar": {
             "outlinewidth": 0,
             "ticks": ""
            },
            "colorscale": [
             [
              0,
              "#0d0887"
             ],
             [
              0.1111111111111111,
              "#46039f"
             ],
             [
              0.2222222222222222,
              "#7201a8"
             ],
             [
              0.3333333333333333,
              "#9c179e"
             ],
             [
              0.4444444444444444,
              "#bd3786"
             ],
             [
              0.5555555555555556,
              "#d8576b"
             ],
             [
              0.6666666666666666,
              "#ed7953"
             ],
             [
              0.7777777777777778,
              "#fb9f3a"
             ],
             [
              0.8888888888888888,
              "#fdca26"
             ],
             [
              1,
              "#f0f921"
             ]
            ],
            "type": "heatmapgl"
           }
          ],
          "histogram": [
           {
            "marker": {
             "pattern": {
              "fillmode": "overlay",
              "size": 10,
              "solidity": 0.2
             }
            },
            "type": "histogram"
           }
          ],
          "histogram2d": [
           {
            "colorbar": {
             "outlinewidth": 0,
             "ticks": ""
            },
            "colorscale": [
             [
              0,
              "#0d0887"
             ],
             [
              0.1111111111111111,
              "#46039f"
             ],
             [
              0.2222222222222222,
              "#7201a8"
             ],
             [
              0.3333333333333333,
              "#9c179e"
             ],
             [
              0.4444444444444444,
              "#bd3786"
             ],
             [
              0.5555555555555556,
              "#d8576b"
             ],
             [
              0.6666666666666666,
              "#ed7953"
             ],
             [
              0.7777777777777778,
              "#fb9f3a"
             ],
             [
              0.8888888888888888,
              "#fdca26"
             ],
             [
              1,
              "#f0f921"
             ]
            ],
            "type": "histogram2d"
           }
          ],
          "histogram2dcontour": [
           {
            "colorbar": {
             "outlinewidth": 0,
             "ticks": ""
            },
            "colorscale": [
             [
              0,
              "#0d0887"
             ],
             [
              0.1111111111111111,
              "#46039f"
             ],
             [
              0.2222222222222222,
              "#7201a8"
             ],
             [
              0.3333333333333333,
              "#9c179e"
             ],
             [
              0.4444444444444444,
              "#bd3786"
             ],
             [
              0.5555555555555556,
              "#d8576b"
             ],
             [
              0.6666666666666666,
              "#ed7953"
             ],
             [
              0.7777777777777778,
              "#fb9f3a"
             ],
             [
              0.8888888888888888,
              "#fdca26"
             ],
             [
              1,
              "#f0f921"
             ]
            ],
            "type": "histogram2dcontour"
           }
          ],
          "mesh3d": [
           {
            "colorbar": {
             "outlinewidth": 0,
             "ticks": ""
            },
            "type": "mesh3d"
           }
          ],
          "parcoords": [
           {
            "line": {
             "colorbar": {
              "outlinewidth": 0,
              "ticks": ""
             }
            },
            "type": "parcoords"
           }
          ],
          "pie": [
           {
            "automargin": true,
            "type": "pie"
           }
          ],
          "scatter": [
           {
            "fillpattern": {
             "fillmode": "overlay",
             "size": 10,
             "solidity": 0.2
            },
            "type": "scatter"
           }
          ],
          "scatter3d": [
           {
            "line": {
             "colorbar": {
              "outlinewidth": 0,
              "ticks": ""
             }
            },
            "marker": {
             "colorbar": {
              "outlinewidth": 0,
              "ticks": ""
             }
            },
            "type": "scatter3d"
           }
          ],
          "scattercarpet": [
           {
            "marker": {
             "colorbar": {
              "outlinewidth": 0,
              "ticks": ""
             }
            },
            "type": "scattercarpet"
           }
          ],
          "scattergeo": [
           {
            "marker": {
             "colorbar": {
              "outlinewidth": 0,
              "ticks": ""
             }
            },
            "type": "scattergeo"
           }
          ],
          "scattergl": [
           {
            "marker": {
             "colorbar": {
              "outlinewidth": 0,
              "ticks": ""
             }
            },
            "type": "scattergl"
           }
          ],
          "scattermapbox": [
           {
            "marker": {
             "colorbar": {
              "outlinewidth": 0,
              "ticks": ""
             }
            },
            "type": "scattermapbox"
           }
          ],
          "scatterpolar": [
           {
            "marker": {
             "colorbar": {
              "outlinewidth": 0,
              "ticks": ""
             }
            },
            "type": "scatterpolar"
           }
          ],
          "scatterpolargl": [
           {
            "marker": {
             "colorbar": {
              "outlinewidth": 0,
              "ticks": ""
             }
            },
            "type": "scatterpolargl"
           }
          ],
          "scatterternary": [
           {
            "marker": {
             "colorbar": {
              "outlinewidth": 0,
              "ticks": ""
             }
            },
            "type": "scatterternary"
           }
          ],
          "surface": [
           {
            "colorbar": {
             "outlinewidth": 0,
             "ticks": ""
            },
            "colorscale": [
             [
              0,
              "#0d0887"
             ],
             [
              0.1111111111111111,
              "#46039f"
             ],
             [
              0.2222222222222222,
              "#7201a8"
             ],
             [
              0.3333333333333333,
              "#9c179e"
             ],
             [
              0.4444444444444444,
              "#bd3786"
             ],
             [
              0.5555555555555556,
              "#d8576b"
             ],
             [
              0.6666666666666666,
              "#ed7953"
             ],
             [
              0.7777777777777778,
              "#fb9f3a"
             ],
             [
              0.8888888888888888,
              "#fdca26"
             ],
             [
              1,
              "#f0f921"
             ]
            ],
            "type": "surface"
           }
          ],
          "table": [
           {
            "cells": {
             "fill": {
              "color": "#EBF0F8"
             },
             "line": {
              "color": "white"
             }
            },
            "header": {
             "fill": {
              "color": "#C8D4E3"
             },
             "line": {
              "color": "white"
             }
            },
            "type": "table"
           }
          ]
         },
         "layout": {
          "annotationdefaults": {
           "arrowcolor": "#2a3f5f",
           "arrowhead": 0,
           "arrowwidth": 1
          },
          "autotypenumbers": "strict",
          "coloraxis": {
           "colorbar": {
            "outlinewidth": 0,
            "ticks": ""
           }
          },
          "colorscale": {
           "diverging": [
            [
             0,
             "#8e0152"
            ],
            [
             0.1,
             "#c51b7d"
            ],
            [
             0.2,
             "#de77ae"
            ],
            [
             0.3,
             "#f1b6da"
            ],
            [
             0.4,
             "#fde0ef"
            ],
            [
             0.5,
             "#f7f7f7"
            ],
            [
             0.6,
             "#e6f5d0"
            ],
            [
             0.7,
             "#b8e186"
            ],
            [
             0.8,
             "#7fbc41"
            ],
            [
             0.9,
             "#4d9221"
            ],
            [
             1,
             "#276419"
            ]
           ],
           "sequential": [
            [
             0,
             "#0d0887"
            ],
            [
             0.1111111111111111,
             "#46039f"
            ],
            [
             0.2222222222222222,
             "#7201a8"
            ],
            [
             0.3333333333333333,
             "#9c179e"
            ],
            [
             0.4444444444444444,
             "#bd3786"
            ],
            [
             0.5555555555555556,
             "#d8576b"
            ],
            [
             0.6666666666666666,
             "#ed7953"
            ],
            [
             0.7777777777777778,
             "#fb9f3a"
            ],
            [
             0.8888888888888888,
             "#fdca26"
            ],
            [
             1,
             "#f0f921"
            ]
           ],
           "sequentialminus": [
            [
             0,
             "#0d0887"
            ],
            [
             0.1111111111111111,
             "#46039f"
            ],
            [
             0.2222222222222222,
             "#7201a8"
            ],
            [
             0.3333333333333333,
             "#9c179e"
            ],
            [
             0.4444444444444444,
             "#bd3786"
            ],
            [
             0.5555555555555556,
             "#d8576b"
            ],
            [
             0.6666666666666666,
             "#ed7953"
            ],
            [
             0.7777777777777778,
             "#fb9f3a"
            ],
            [
             0.8888888888888888,
             "#fdca26"
            ],
            [
             1,
             "#f0f921"
            ]
           ]
          },
          "colorway": [
           "#636efa",
           "#EF553B",
           "#00cc96",
           "#ab63fa",
           "#FFA15A",
           "#19d3f3",
           "#FF6692",
           "#B6E880",
           "#FF97FF",
           "#FECB52"
          ],
          "font": {
           "color": "#2a3f5f"
          },
          "geo": {
           "bgcolor": "white",
           "lakecolor": "white",
           "landcolor": "#E5ECF6",
           "showlakes": true,
           "showland": true,
           "subunitcolor": "white"
          },
          "hoverlabel": {
           "align": "left"
          },
          "hovermode": "closest",
          "mapbox": {
           "style": "light"
          },
          "paper_bgcolor": "white",
          "plot_bgcolor": "#E5ECF6",
          "polar": {
           "angularaxis": {
            "gridcolor": "white",
            "linecolor": "white",
            "ticks": ""
           },
           "bgcolor": "#E5ECF6",
           "radialaxis": {
            "gridcolor": "white",
            "linecolor": "white",
            "ticks": ""
           }
          },
          "scene": {
           "xaxis": {
            "backgroundcolor": "#E5ECF6",
            "gridcolor": "white",
            "gridwidth": 2,
            "linecolor": "white",
            "showbackground": true,
            "ticks": "",
            "zerolinecolor": "white"
           },
           "yaxis": {
            "backgroundcolor": "#E5ECF6",
            "gridcolor": "white",
            "gridwidth": 2,
            "linecolor": "white",
            "showbackground": true,
            "ticks": "",
            "zerolinecolor": "white"
           },
           "zaxis": {
            "backgroundcolor": "#E5ECF6",
            "gridcolor": "white",
            "gridwidth": 2,
            "linecolor": "white",
            "showbackground": true,
            "ticks": "",
            "zerolinecolor": "white"
           }
          },
          "shapedefaults": {
           "line": {
            "color": "#2a3f5f"
           }
          },
          "ternary": {
           "aaxis": {
            "gridcolor": "white",
            "linecolor": "white",
            "ticks": ""
           },
           "baxis": {
            "gridcolor": "white",
            "linecolor": "white",
            "ticks": ""
           },
           "bgcolor": "#E5ECF6",
           "caxis": {
            "gridcolor": "white",
            "linecolor": "white",
            "ticks": ""
           }
          },
          "title": {
           "x": 0.05
          },
          "xaxis": {
           "automargin": true,
           "gridcolor": "white",
           "linecolor": "white",
           "ticks": "",
           "title": {
            "standoff": 15
           },
           "zerolinecolor": "white",
           "zerolinewidth": 2
          },
          "yaxis": {
           "automargin": true,
           "gridcolor": "white",
           "linecolor": "white",
           "ticks": "",
           "title": {
            "standoff": 15
           },
           "zerolinecolor": "white",
           "zerolinewidth": 2
          }
         }
        },
        "xaxis": {
         "anchor": "y",
         "domain": [
          0,
          1
         ],
         "title": {
          "text": "submitted"
         }
        },
        "yaxis": {
         "anchor": "x",
         "domain": [
          0,
          1
         ],
         "title": {
          "text": "value"
         }
        }
       }
      }
     },
     "metadata": {},
     "output_type": "display_data"
    }
   ],
   "source": [
    "scenarios = ['VT psalmTS Novice', 'VT skyTS Novice', 'VT psalmTS Intermediate', 'VT skyTS Intermediate', 'VT psalmTS Advanced', 'VT skyTS Advanced']\n",
    "plot_progress(df, scenarios, nov_spe_ts, int_spe_ts, adv_spe_ts)"
   ]
  },
  {
   "cell_type": "code",
   "execution_count": 17,
   "metadata": {},
   "outputs": [
    {
     "data": {
      "application/vnd.plotly.v1+json": {
       "config": {
        "plotlyServerURL": "https://plot.ly"
       },
       "data": [
        {
         "hovertemplate": "color=Novice<br>variable=energy<br>submitted=%{x}<br>value=%{y}<extra></extra>",
         "legendgroup": "Novice",
         "line": {
          "color": "#636efa",
          "dash": "dash"
         },
         "marker": {
          "symbol": "circle"
         },
         "mode": "lines",
         "name": "Novice",
         "opacity": 0.7,
         "orientation": "v",
         "showlegend": true,
         "type": "scatter",
         "x": [
          "2024-08-29T00:00:00",
          "2024-08-30T00:00:00",
          "2024-08-31T12:00:00"
         ],
         "xaxis": "x",
         "y": [
          330,
          401,
          422
         ],
         "yaxis": "y"
        },
        {
         "hovertemplate": "color=Intermediate<br>variable=energy<br>submitted=%{x}<br>value=%{y}<extra></extra>",
         "legendgroup": "Intermediate",
         "line": {
          "color": "#EF553B",
          "dash": "dash"
         },
         "marker": {
          "symbol": "circle"
         },
         "mode": "lines",
         "name": "Intermediate",
         "opacity": 0.7,
         "orientation": "v",
         "showlegend": true,
         "type": "scatter",
         "x": [
          "2024-08-30T18:00:00",
          "2024-09-03T18:00:00",
          "2024-09-04T00:00:00",
          "2024-09-07T00:00:00",
          "2024-09-07T12:00:00",
          "2024-09-07T18:00:00",
          "2024-09-08T18:00:00",
          "2024-09-14T12:00:00",
          "2024-09-22T12:00:00"
         ],
         "xaxis": "x",
         "y": [
          401,
          411,
          441,
          481,
          462,
          501,
          541,
          547,
          566
         ],
         "yaxis": "y"
        },
        {
         "line": {
          "color": "rgba(0,0,255,.85)"
         },
         "mode": "lines",
         "name": "Novice PB",
         "type": "scatter",
         "x": [
          "2024-08-29T00:00:00",
          "2024-08-30T00:00:00",
          "2024-08-31T12:00:00"
         ],
         "y": [
          330,
          401,
          422
         ]
        },
        {
         "line": {
          "color": "rgba(255,0,0,.85)"
         },
         "mode": "lines",
         "name": "Intermediate PB",
         "type": "scatter",
         "x": [
          "2024-08-30T18:00:00",
          "2024-09-03T18:00:00",
          "2024-09-04T00:00:00",
          "2024-09-07T00:00:00",
          "2024-09-07T12:00:00",
          "2024-09-07T18:00:00",
          "2024-09-08T18:00:00",
          "2024-09-14T12:00:00",
          "2024-09-22T12:00:00"
         ],
         "y": [
          401,
          411,
          441,
          481,
          481,
          501,
          541,
          547,
          566
         ]
        }
       ],
       "layout": {
        "legend": {
         "title": {
          "text": "color"
         },
         "tracegroupgap": 0
        },
        "margin": {
         "t": 60
        },
        "template": {
         "data": {
          "bar": [
           {
            "error_x": {
             "color": "#2a3f5f"
            },
            "error_y": {
             "color": "#2a3f5f"
            },
            "marker": {
             "line": {
              "color": "#E5ECF6",
              "width": 0.5
             },
             "pattern": {
              "fillmode": "overlay",
              "size": 10,
              "solidity": 0.2
             }
            },
            "type": "bar"
           }
          ],
          "barpolar": [
           {
            "marker": {
             "line": {
              "color": "#E5ECF6",
              "width": 0.5
             },
             "pattern": {
              "fillmode": "overlay",
              "size": 10,
              "solidity": 0.2
             }
            },
            "type": "barpolar"
           }
          ],
          "carpet": [
           {
            "aaxis": {
             "endlinecolor": "#2a3f5f",
             "gridcolor": "white",
             "linecolor": "white",
             "minorgridcolor": "white",
             "startlinecolor": "#2a3f5f"
            },
            "baxis": {
             "endlinecolor": "#2a3f5f",
             "gridcolor": "white",
             "linecolor": "white",
             "minorgridcolor": "white",
             "startlinecolor": "#2a3f5f"
            },
            "type": "carpet"
           }
          ],
          "choropleth": [
           {
            "colorbar": {
             "outlinewidth": 0,
             "ticks": ""
            },
            "type": "choropleth"
           }
          ],
          "contour": [
           {
            "colorbar": {
             "outlinewidth": 0,
             "ticks": ""
            },
            "colorscale": [
             [
              0,
              "#0d0887"
             ],
             [
              0.1111111111111111,
              "#46039f"
             ],
             [
              0.2222222222222222,
              "#7201a8"
             ],
             [
              0.3333333333333333,
              "#9c179e"
             ],
             [
              0.4444444444444444,
              "#bd3786"
             ],
             [
              0.5555555555555556,
              "#d8576b"
             ],
             [
              0.6666666666666666,
              "#ed7953"
             ],
             [
              0.7777777777777778,
              "#fb9f3a"
             ],
             [
              0.8888888888888888,
              "#fdca26"
             ],
             [
              1,
              "#f0f921"
             ]
            ],
            "type": "contour"
           }
          ],
          "contourcarpet": [
           {
            "colorbar": {
             "outlinewidth": 0,
             "ticks": ""
            },
            "type": "contourcarpet"
           }
          ],
          "heatmap": [
           {
            "colorbar": {
             "outlinewidth": 0,
             "ticks": ""
            },
            "colorscale": [
             [
              0,
              "#0d0887"
             ],
             [
              0.1111111111111111,
              "#46039f"
             ],
             [
              0.2222222222222222,
              "#7201a8"
             ],
             [
              0.3333333333333333,
              "#9c179e"
             ],
             [
              0.4444444444444444,
              "#bd3786"
             ],
             [
              0.5555555555555556,
              "#d8576b"
             ],
             [
              0.6666666666666666,
              "#ed7953"
             ],
             [
              0.7777777777777778,
              "#fb9f3a"
             ],
             [
              0.8888888888888888,
              "#fdca26"
             ],
             [
              1,
              "#f0f921"
             ]
            ],
            "type": "heatmap"
           }
          ],
          "heatmapgl": [
           {
            "colorbar": {
             "outlinewidth": 0,
             "ticks": ""
            },
            "colorscale": [
             [
              0,
              "#0d0887"
             ],
             [
              0.1111111111111111,
              "#46039f"
             ],
             [
              0.2222222222222222,
              "#7201a8"
             ],
             [
              0.3333333333333333,
              "#9c179e"
             ],
             [
              0.4444444444444444,
              "#bd3786"
             ],
             [
              0.5555555555555556,
              "#d8576b"
             ],
             [
              0.6666666666666666,
              "#ed7953"
             ],
             [
              0.7777777777777778,
              "#fb9f3a"
             ],
             [
              0.8888888888888888,
              "#fdca26"
             ],
             [
              1,
              "#f0f921"
             ]
            ],
            "type": "heatmapgl"
           }
          ],
          "histogram": [
           {
            "marker": {
             "pattern": {
              "fillmode": "overlay",
              "size": 10,
              "solidity": 0.2
             }
            },
            "type": "histogram"
           }
          ],
          "histogram2d": [
           {
            "colorbar": {
             "outlinewidth": 0,
             "ticks": ""
            },
            "colorscale": [
             [
              0,
              "#0d0887"
             ],
             [
              0.1111111111111111,
              "#46039f"
             ],
             [
              0.2222222222222222,
              "#7201a8"
             ],
             [
              0.3333333333333333,
              "#9c179e"
             ],
             [
              0.4444444444444444,
              "#bd3786"
             ],
             [
              0.5555555555555556,
              "#d8576b"
             ],
             [
              0.6666666666666666,
              "#ed7953"
             ],
             [
              0.7777777777777778,
              "#fb9f3a"
             ],
             [
              0.8888888888888888,
              "#fdca26"
             ],
             [
              1,
              "#f0f921"
             ]
            ],
            "type": "histogram2d"
           }
          ],
          "histogram2dcontour": [
           {
            "colorbar": {
             "outlinewidth": 0,
             "ticks": ""
            },
            "colorscale": [
             [
              0,
              "#0d0887"
             ],
             [
              0.1111111111111111,
              "#46039f"
             ],
             [
              0.2222222222222222,
              "#7201a8"
             ],
             [
              0.3333333333333333,
              "#9c179e"
             ],
             [
              0.4444444444444444,
              "#bd3786"
             ],
             [
              0.5555555555555556,
              "#d8576b"
             ],
             [
              0.6666666666666666,
              "#ed7953"
             ],
             [
              0.7777777777777778,
              "#fb9f3a"
             ],
             [
              0.8888888888888888,
              "#fdca26"
             ],
             [
              1,
              "#f0f921"
             ]
            ],
            "type": "histogram2dcontour"
           }
          ],
          "mesh3d": [
           {
            "colorbar": {
             "outlinewidth": 0,
             "ticks": ""
            },
            "type": "mesh3d"
           }
          ],
          "parcoords": [
           {
            "line": {
             "colorbar": {
              "outlinewidth": 0,
              "ticks": ""
             }
            },
            "type": "parcoords"
           }
          ],
          "pie": [
           {
            "automargin": true,
            "type": "pie"
           }
          ],
          "scatter": [
           {
            "fillpattern": {
             "fillmode": "overlay",
             "size": 10,
             "solidity": 0.2
            },
            "type": "scatter"
           }
          ],
          "scatter3d": [
           {
            "line": {
             "colorbar": {
              "outlinewidth": 0,
              "ticks": ""
             }
            },
            "marker": {
             "colorbar": {
              "outlinewidth": 0,
              "ticks": ""
             }
            },
            "type": "scatter3d"
           }
          ],
          "scattercarpet": [
           {
            "marker": {
             "colorbar": {
              "outlinewidth": 0,
              "ticks": ""
             }
            },
            "type": "scattercarpet"
           }
          ],
          "scattergeo": [
           {
            "marker": {
             "colorbar": {
              "outlinewidth": 0,
              "ticks": ""
             }
            },
            "type": "scattergeo"
           }
          ],
          "scattergl": [
           {
            "marker": {
             "colorbar": {
              "outlinewidth": 0,
              "ticks": ""
             }
            },
            "type": "scattergl"
           }
          ],
          "scattermapbox": [
           {
            "marker": {
             "colorbar": {
              "outlinewidth": 0,
              "ticks": ""
             }
            },
            "type": "scattermapbox"
           }
          ],
          "scatterpolar": [
           {
            "marker": {
             "colorbar": {
              "outlinewidth": 0,
              "ticks": ""
             }
            },
            "type": "scatterpolar"
           }
          ],
          "scatterpolargl": [
           {
            "marker": {
             "colorbar": {
              "outlinewidth": 0,
              "ticks": ""
             }
            },
            "type": "scatterpolargl"
           }
          ],
          "scatterternary": [
           {
            "marker": {
             "colorbar": {
              "outlinewidth": 0,
              "ticks": ""
             }
            },
            "type": "scatterternary"
           }
          ],
          "surface": [
           {
            "colorbar": {
             "outlinewidth": 0,
             "ticks": ""
            },
            "colorscale": [
             [
              0,
              "#0d0887"
             ],
             [
              0.1111111111111111,
              "#46039f"
             ],
             [
              0.2222222222222222,
              "#7201a8"
             ],
             [
              0.3333333333333333,
              "#9c179e"
             ],
             [
              0.4444444444444444,
              "#bd3786"
             ],
             [
              0.5555555555555556,
              "#d8576b"
             ],
             [
              0.6666666666666666,
              "#ed7953"
             ],
             [
              0.7777777777777778,
              "#fb9f3a"
             ],
             [
              0.8888888888888888,
              "#fdca26"
             ],
             [
              1,
              "#f0f921"
             ]
            ],
            "type": "surface"
           }
          ],
          "table": [
           {
            "cells": {
             "fill": {
              "color": "#EBF0F8"
             },
             "line": {
              "color": "white"
             }
            },
            "header": {
             "fill": {
              "color": "#C8D4E3"
             },
             "line": {
              "color": "white"
             }
            },
            "type": "table"
           }
          ]
         },
         "layout": {
          "annotationdefaults": {
           "arrowcolor": "#2a3f5f",
           "arrowhead": 0,
           "arrowwidth": 1
          },
          "autotypenumbers": "strict",
          "coloraxis": {
           "colorbar": {
            "outlinewidth": 0,
            "ticks": ""
           }
          },
          "colorscale": {
           "diverging": [
            [
             0,
             "#8e0152"
            ],
            [
             0.1,
             "#c51b7d"
            ],
            [
             0.2,
             "#de77ae"
            ],
            [
             0.3,
             "#f1b6da"
            ],
            [
             0.4,
             "#fde0ef"
            ],
            [
             0.5,
             "#f7f7f7"
            ],
            [
             0.6,
             "#e6f5d0"
            ],
            [
             0.7,
             "#b8e186"
            ],
            [
             0.8,
             "#7fbc41"
            ],
            [
             0.9,
             "#4d9221"
            ],
            [
             1,
             "#276419"
            ]
           ],
           "sequential": [
            [
             0,
             "#0d0887"
            ],
            [
             0.1111111111111111,
             "#46039f"
            ],
            [
             0.2222222222222222,
             "#7201a8"
            ],
            [
             0.3333333333333333,
             "#9c179e"
            ],
            [
             0.4444444444444444,
             "#bd3786"
            ],
            [
             0.5555555555555556,
             "#d8576b"
            ],
            [
             0.6666666666666666,
             "#ed7953"
            ],
            [
             0.7777777777777778,
             "#fb9f3a"
            ],
            [
             0.8888888888888888,
             "#fdca26"
            ],
            [
             1,
             "#f0f921"
            ]
           ],
           "sequentialminus": [
            [
             0,
             "#0d0887"
            ],
            [
             0.1111111111111111,
             "#46039f"
            ],
            [
             0.2222222222222222,
             "#7201a8"
            ],
            [
             0.3333333333333333,
             "#9c179e"
            ],
            [
             0.4444444444444444,
             "#bd3786"
            ],
            [
             0.5555555555555556,
             "#d8576b"
            ],
            [
             0.6666666666666666,
             "#ed7953"
            ],
            [
             0.7777777777777778,
             "#fb9f3a"
            ],
            [
             0.8888888888888888,
             "#fdca26"
            ],
            [
             1,
             "#f0f921"
            ]
           ]
          },
          "colorway": [
           "#636efa",
           "#EF553B",
           "#00cc96",
           "#ab63fa",
           "#FFA15A",
           "#19d3f3",
           "#FF6692",
           "#B6E880",
           "#FF97FF",
           "#FECB52"
          ],
          "font": {
           "color": "#2a3f5f"
          },
          "geo": {
           "bgcolor": "white",
           "lakecolor": "white",
           "landcolor": "#E5ECF6",
           "showlakes": true,
           "showland": true,
           "subunitcolor": "white"
          },
          "hoverlabel": {
           "align": "left"
          },
          "hovermode": "closest",
          "mapbox": {
           "style": "light"
          },
          "paper_bgcolor": "white",
          "plot_bgcolor": "#E5ECF6",
          "polar": {
           "angularaxis": {
            "gridcolor": "white",
            "linecolor": "white",
            "ticks": ""
           },
           "bgcolor": "#E5ECF6",
           "radialaxis": {
            "gridcolor": "white",
            "linecolor": "white",
            "ticks": ""
           }
          },
          "scene": {
           "xaxis": {
            "backgroundcolor": "#E5ECF6",
            "gridcolor": "white",
            "gridwidth": 2,
            "linecolor": "white",
            "showbackground": true,
            "ticks": "",
            "zerolinecolor": "white"
           },
           "yaxis": {
            "backgroundcolor": "#E5ECF6",
            "gridcolor": "white",
            "gridwidth": 2,
            "linecolor": "white",
            "showbackground": true,
            "ticks": "",
            "zerolinecolor": "white"
           },
           "zaxis": {
            "backgroundcolor": "#E5ECF6",
            "gridcolor": "white",
            "gridwidth": 2,
            "linecolor": "white",
            "showbackground": true,
            "ticks": "",
            "zerolinecolor": "white"
           }
          },
          "shapedefaults": {
           "line": {
            "color": "#2a3f5f"
           }
          },
          "ternary": {
           "aaxis": {
            "gridcolor": "white",
            "linecolor": "white",
            "ticks": ""
           },
           "baxis": {
            "gridcolor": "white",
            "linecolor": "white",
            "ticks": ""
           },
           "bgcolor": "#E5ECF6",
           "caxis": {
            "gridcolor": "white",
            "linecolor": "white",
            "ticks": ""
           }
          },
          "title": {
           "x": 0.05
          },
          "xaxis": {
           "automargin": true,
           "gridcolor": "white",
           "linecolor": "white",
           "ticks": "",
           "title": {
            "standoff": 15
           },
           "zerolinecolor": "white",
           "zerolinewidth": 2
          },
          "yaxis": {
           "automargin": true,
           "gridcolor": "white",
           "linecolor": "white",
           "ticks": "",
           "title": {
            "standoff": 15
           },
           "zerolinecolor": "white",
           "zerolinewidth": 2
          }
         }
        },
        "xaxis": {
         "anchor": "y",
         "domain": [
          0,
          1
         ],
         "title": {
          "text": "submitted"
         }
        },
        "yaxis": {
         "anchor": "x",
         "domain": [
          0,
          1
         ],
         "title": {
          "text": "value"
         }
        }
       }
      }
     },
     "metadata": {},
     "output_type": "display_data"
    }
   ],
   "source": [
    "scenarios = ['VT evaTS Novice', 'VT bounceTS Novice', 'VT evaTS Intermediate', 'VT bounceTS Intermediate', 'VT evaTS Advanced', 'VT bounceTS Advanced']\n",
    "plot_progress(df, scenarios, nov_eva_ts, int_eva_ts, adv_eva_ts)"
   ]
  },
  {
   "cell_type": "code",
   "execution_count": null,
   "metadata": {},
   "outputs": [],
   "source": []
  },
  {
   "cell_type": "code",
   "execution_count": 56,
   "metadata": {},
   "outputs": [
    {
     "data": {
      "text/plain": [
       "scenario\n",
       "VT Pasu Rasp Intermediate         21\n",
       "VT evaTS Intermediate             13\n",
       "VT Plaza Intermediate             12\n",
       "VT Bounceshot Intermediate        11\n",
       "VT Multiclick 120 Intermediate    11\n",
       "VT skyTS Intermediate              8\n",
       "VT 1w5ts Rasp Intermediate         8\n",
       "VT Smoothbot Intermediate          6\n",
       "VT psalmTS Intermediate            5\n",
       "VT bounceTS Intermediate           4\n",
       "VT Air Intermediate                2\n",
       "VT PreciseOrb Intermediate         1\n",
       "Name: count, dtype: int64"
      ]
     },
     "execution_count": 56,
     "metadata": {},
     "output_type": "execute_result"
    }
   ],
   "source": [
    "scenarios = [\n",
    "    \"VT Pasu Rasp Intermediate\",\n",
    "    \"VT Bounceshot Intermediate\",\n",
    "    \"VT 1w5ts Rasp Intermediate\",\n",
    "    \"VT Multiclick 120 Intermediate\",\n",
    "    \"VT Smoothbot Intermediate\",\n",
    "    \"VT PreciseOrb Intermediate\",\n",
    "    \"VT Plaza Intermediate\",\n",
    "    \"VT Air Intermediate\",\n",
    "    \"VT psalmTS Intermediate\",\n",
    "    \"VT skyTS Intermediate\",\n",
    "    \"VT evaTS Intermediate\",\n",
    "    \"VT bounceTS Intermediate\"\n",
    "]\n",
    "\n",
    "df_ = df[df[\"scenario\"].isin(scenarios)]\n",
    "df_.set_index(\"submitted\").resample(\".2h\")[[\"scenario\", \"score\"]].max()[\"scenario\"].value_counts()"
   ]
  }
 ],
 "metadata": {
  "kernelspec": {
   "display_name": "venv",
   "language": "python",
   "name": "python3"
  },
  "language_info": {
   "codemirror_mode": {
    "name": "ipython",
    "version": 3
   },
   "file_extension": ".py",
   "mimetype": "text/x-python",
   "name": "python",
   "nbconvert_exporter": "python",
   "pygments_lexer": "ipython3",
   "version": "3.12.5"
  }
 },
 "nbformat": 4,
 "nbformat_minor": 2
}
